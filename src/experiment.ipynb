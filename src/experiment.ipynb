{
 "cells": [
  {
   "cell_type": "code",
   "execution_count": 4,
   "metadata": {},
   "outputs": [],
   "source": [
    "!pip install -q numpy\n",
    "!pip install -q pandas\n",
    "!pip install -q matplotlib"
   ]
  },
  {
   "cell_type": "code",
   "execution_count": 63,
   "metadata": {},
   "outputs": [],
   "source": [
    "import numpy as np \n",
    "import pandas as pd\n",
    "import matplotlib.pyplot as plt\n",
    "import itertools\n",
    "\n",
    "from utils.helpers import reading\n"
   ]
  },
  {
   "cell_type": "code",
   "execution_count": 73,
   "metadata": {},
   "outputs": [
    {
     "name": "stdout",
     "output_type": "stream",
     "text": [
      "0          M-001  M-002  M-003  M-004  M-005  M-006  M-007  M-008  M-009  \\\n",
      "Processes                                                                  \n",
      "P-001      -73.0    0.0   59.0    0.0   48.0    0.0    0.0    0.0    0.0   \n",
      "P-002        0.0    0.0    0.0    0.0   73.0    0.0    0.0   11.0    0.0   \n",
      "P-003        0.0    0.0    0.0   58.0   26.0    0.0    0.0   92.0   43.0   \n",
      "\n",
      "0          M-010  ...  M-012  M-013  M-014  M-015  M-016  M-017  M-018  M-019  \\\n",
      "Processes         ...                                                           \n",
      "P-001        0.0  ...  -60.0    0.0    0.0  -26.0    0.0    0.0   -9.0  -15.0   \n",
      "P-002       69.0  ...    0.0   36.0  -33.0   33.0  -82.0   64.0    0.0  -38.0   \n",
      "P-003        0.0  ...  -42.0   34.0   -4.0    5.0    0.0    0.0    0.0    0.0   \n",
      "\n",
      "0          M-020  Energy  \n",
      "Processes                 \n",
      "P-001        0.0   -76.0  \n",
      "P-002      -92.0   112.0  \n",
      "P-003        0.0   212.0  \n",
      "\n",
      "[3 rows x 21 columns]\n"
     ]
    }
   ],
   "source": [
    "data = './data/data.csv'\n",
    "df = reading(data)\n",
    "\n",
    "\n",
    "\n",
    "df.drop('Cost/Energy…?', axis=1, inplace=True)\n",
    "\n",
    "# Convert the dataframe to a numpy array\n",
    "df = df.astype(float)\n",
    "df['Energy'] = df.sum(axis=1)\n",
    "df.reset_index().set_index('Processes').head()\n",
    "\n",
    "\n",
    "\n",
    "print(df.head(3))\n"
   ]
  },
  {
   "cell_type": "code",
   "execution_count": 69,
   "metadata": {},
   "outputs": [],
   "source": [
    "def process(df):\n",
    "    l = []\n",
    "    for process in df.index:\n",
    "        for material in df.columns:\n",
    "            l.append((process, material, df.loc[process, material]))"
   ]
  },
  {
   "cell_type": "code",
   "execution_count": 71,
   "metadata": {},
   "outputs": [
    {
     "name": "stdout",
     "output_type": "stream",
     "text": [
      "None\n"
     ]
    }
   ],
   "source": [
    "\n",
    "o = process(df)\n",
    "print(o)"
   ]
  }
 ],
 "metadata": {
  "kernelspec": {
   "display_name": "Python 3.9.12 ('edisonjairbejaranosepulveda-jtwX8chG')",
   "language": "python",
   "name": "python3"
  },
  "language_info": {
   "codemirror_mode": {
    "name": "ipython",
    "version": 3
   },
   "file_extension": ".py",
   "mimetype": "text/x-python",
   "name": "python",
   "nbconvert_exporter": "python",
   "pygments_lexer": "ipython3",
   "version": "3.9.12"
  },
  "orig_nbformat": 4,
  "vscode": {
   "interpreter": {
    "hash": "72b65a85b14eca50b381810288abb5daadf6ea8f8c4b362eeb9dd6268d888079"
   }
  }
 },
 "nbformat": 4,
 "nbformat_minor": 2
}
