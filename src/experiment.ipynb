{
 "cells": [
  {
   "cell_type": "code",
   "execution_count": 79,
   "metadata": {},
   "outputs": [],
   "source": [
    "!pip install -q numpy\n",
    "!pip install -q pandas\n",
    "!pip install -q matplotlib\n",
    "!pip install -q networkx"
   ]
  },
  {
   "cell_type": "code",
   "execution_count": 75,
   "metadata": {},
   "outputs": [],
   "source": [
    "import numpy as np \n",
    "import pandas as pd\n",
    "import matplotlib.pyplot as plt\n",
    "import itertools\n",
    "\n",
    "from utils.helpers import reading\n"
   ]
  },
  {
   "cell_type": "code",
   "execution_count": 76,
   "metadata": {},
   "outputs": [
    {
     "name": "stdout",
     "output_type": "stream",
     "text": [
      "0          M-001  M-002  M-003  M-004  M-005  M-006  M-007  M-008  M-009  \\\n",
      "Processes                                                                  \n",
      "P-001      -73.0    0.0   59.0    0.0   48.0    0.0    0.0    0.0    0.0   \n",
      "P-002        0.0    0.0    0.0    0.0   73.0    0.0    0.0   11.0    0.0   \n",
      "P-003        0.0    0.0    0.0   58.0   26.0    0.0    0.0   92.0   43.0   \n",
      "\n",
      "0          M-010  ...  M-012  M-013  M-014  M-015  M-016  M-017  M-018  M-019  \\\n",
      "Processes         ...                                                           \n",
      "P-001        0.0  ...  -60.0    0.0    0.0  -26.0    0.0    0.0   -9.0  -15.0   \n",
      "P-002       69.0  ...    0.0   36.0  -33.0   33.0  -82.0   64.0    0.0  -38.0   \n",
      "P-003        0.0  ...  -42.0   34.0   -4.0    5.0    0.0    0.0    0.0    0.0   \n",
      "\n",
      "0          M-020  Energy  \n",
      "Processes                 \n",
      "P-001        0.0   -76.0  \n",
      "P-002      -92.0   112.0  \n",
      "P-003        0.0   212.0  \n",
      "\n",
      "[3 rows x 21 columns]\n"
     ]
    }
   ],
   "source": [
    "data = './data/data.csv'\n",
    "df = reading(data)\n",
    "\n",
    "\n",
    "\n",
    "df.drop('Cost/Energy…?', axis=1, inplace=True)\n",
    "\n",
    "# Convert the dataframe to a numpy array\n",
    "df = df.astype(float)\n",
    "df['Energy'] = df.sum(axis=1)\n",
    "df.reset_index().set_index('Processes').head()\n",
    "\n",
    "\n",
    "\n",
    "print(df.head(3))\n"
   ]
  },
  {
   "cell_type": "code",
   "execution_count": 110,
   "metadata": {},
   "outputs": [],
   "source": [
    "l = []\n",
    "for process in df.index:\n",
    "    for material in df.columns:\n",
    "        l.append((process, material, df.loc[process, material]))\n",
    "\n",
    "# extract the values of the tuple\n",
    "t = []\n",
    "for i in range(len(l)):\n",
    "    t.append(l[i][2])\n"
   ]
  },
  {
   "cell_type": "code",
   "execution_count": 111,
   "metadata": {},
   "outputs": [
    {
     "ename": "TypeError",
     "evalue": "object of type 'numpy.float64' has no len()",
     "output_type": "error",
     "traceback": [
      "\u001b[0;31m---------------------------------------------------------------------------\u001b[0m",
      "\u001b[0;31mTypeError\u001b[0m                                 Traceback (most recent call last)",
      "\u001b[1;32m/Users/edisonjairbejaranosepulveda/Desktop/CircularEconomy/src/experiment.ipynb Cell 5'\u001b[0m in \u001b[0;36m<cell line: 10>\u001b[0;34m()\u001b[0m\n\u001b[1;32m      <a href='vscode-notebook-cell:/Users/edisonjairbejaranosepulveda/Desktop/CircularEconomy/src/experiment.ipynb#ch0000010?line=7'>8</a>\u001b[0m B\u001b[39m.\u001b[39madd_nodes_from(l[\u001b[39m1\u001b[39m], bipartite\u001b[39m=\u001b[39m\u001b[39m1\u001b[39m) \u001b[39m## our nodes are the materials\u001b[39;00m\n\u001b[1;32m      <a href='vscode-notebook-cell:/Users/edisonjairbejaranosepulveda/Desktop/CircularEconomy/src/experiment.ipynb#ch0000010?line=8'>9</a>\u001b[0m \u001b[39m# Add edges only between nodes of opposite node sets\u001b[39;00m\n\u001b[0;32m---> <a href='vscode-notebook-cell:/Users/edisonjairbejaranosepulveda/Desktop/CircularEconomy/src/experiment.ipynb#ch0000010?line=9'>10</a>\u001b[0m B\u001b[39m.\u001b[39;49madd_edges_from(t)\n\u001b[1;32m     <a href='vscode-notebook-cell:/Users/edisonjairbejaranosepulveda/Desktop/CircularEconomy/src/experiment.ipynb#ch0000010?line=12'>13</a>\u001b[0m \u001b[39m# Separate by group\u001b[39;00m\n\u001b[1;32m     <a href='vscode-notebook-cell:/Users/edisonjairbejaranosepulveda/Desktop/CircularEconomy/src/experiment.ipynb#ch0000010?line=13'>14</a>\u001b[0m l, r \u001b[39m=\u001b[39m bipartite\u001b[39m.\u001b[39msets(B)\n",
      "File \u001b[0;32m~/.local/share/virtualenvs/edisonjairbejaranosepulveda-jtwX8chG/lib/python3.9/site-packages/networkx/classes/graph.py:933\u001b[0m, in \u001b[0;36mGraph.add_edges_from\u001b[0;34m(self, ebunch_to_add, **attr)\u001b[0m\n\u001b[1;32m    895\u001b[0m \u001b[39m\"\"\"Add all the edges in ebunch_to_add.\u001b[39;00m\n\u001b[1;32m    896\u001b[0m \n\u001b[1;32m    897\u001b[0m \u001b[39mParameters\u001b[39;00m\n\u001b[0;32m   (...)\u001b[0m\n\u001b[1;32m    930\u001b[0m \u001b[39m>>> G.add_edges_from([(3, 4), (1, 4)], label=\"WN2898\")\u001b[39;00m\n\u001b[1;32m    931\u001b[0m \u001b[39m\"\"\"\u001b[39;00m\n\u001b[1;32m    932\u001b[0m \u001b[39mfor\u001b[39;00m e \u001b[39min\u001b[39;00m ebunch_to_add:\n\u001b[0;32m--> 933\u001b[0m     ne \u001b[39m=\u001b[39m \u001b[39mlen\u001b[39;49m(e)\n\u001b[1;32m    934\u001b[0m     \u001b[39mif\u001b[39;00m ne \u001b[39m==\u001b[39m \u001b[39m3\u001b[39m:\n\u001b[1;32m    935\u001b[0m         u, v, dd \u001b[39m=\u001b[39m e\n",
      "\u001b[0;31mTypeError\u001b[0m: object of type 'numpy.float64' has no len()"
     ]
    }
   ],
   "source": [
    "import networkx as nx\n",
    "## making the bipartite graph \n",
    "from networkx.algorithms import bipartite\n",
    "\n",
    "B = nx.Graph()\n",
    "# Add nodes with the node attribute \"bipartite\"\n",
    "B.add_nodes_from(l[0], bipartite=0) ## our nodes are the processes\n",
    "B.add_nodes_from(l[1], bipartite=1) ## our nodes are the materials\n",
    "# Add edges only between nodes of opposite node sets\n",
    "B.add_edges_from(t)\n",
    "\n",
    "\n",
    "# Separate by group\n",
    "l, r = bipartite.sets(B)\n",
    "pos = {}\n",
    "\n",
    "# Update position for node from each group\n",
    "pos.update((node, (1, index)) for index, node in enumerate(l))\n",
    "pos.update((node, (2, index)) for index, node in enumerate(r))\n",
    "\n",
    "nx.draw(B, pos=pos)\n",
    "plt.show()"
   ]
  }
 ],
 "metadata": {
  "kernelspec": {
   "display_name": "Python 3.9.12 ('edisonjairbejaranosepulveda-jtwX8chG')",
   "language": "python",
   "name": "python3"
  },
  "language_info": {
   "codemirror_mode": {
    "name": "ipython",
    "version": 3
   },
   "file_extension": ".py",
   "mimetype": "text/x-python",
   "name": "python",
   "nbconvert_exporter": "python",
   "pygments_lexer": "ipython3",
   "version": "3.9.12"
  },
  "orig_nbformat": 4,
  "vscode": {
   "interpreter": {
    "hash": "72b65a85b14eca50b381810288abb5daadf6ea8f8c4b362eeb9dd6268d888079"
   }
  }
 },
 "nbformat": 4,
 "nbformat_minor": 2
}
