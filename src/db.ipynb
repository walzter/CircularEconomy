{
 "cells": [
  {
   "cell_type": "markdown",
   "metadata": {},
   "source": [
    "## Setting the Database"
   ]
  },
  {
   "cell_type": "markdown",
   "metadata": {},
   "source": [
    "### Loading DataFrame & Change to desired input format for DB"
   ]
  },
  {
   "cell_type": "code",
   "execution_count": null,
   "metadata": {},
   "outputs": [],
   "source": [
    "## loading the data \n",
    "import pandas as pd\n",
    "## defining the path \n",
    "PATH = \"./data/clean_data.csv\"\n",
    "## loading \n",
    "df = pd.read_csv(PATH)\n",
    "## reseting indeces\n",
    "dfa = df.reset_index(drop=True)\n",
    "\n",
    "## number of materials \n",
    "mats = [x for x in df.columns if \"M-\" in x]\n",
    "n_mats = len(mats)\n",
    "print(n_mats)"
   ]
  },
  {
   "cell_type": "code",
   "execution_count": null,
   "metadata": {},
   "outputs": [],
   "source": [
    "## current dataframe: Processes | Material 1| Material 2| Material 3| ... \n",
    "## convert to Processes | Materials | Values\n",
    "long_df = pd.wide_to_long(dfa, [\"M-\"], i=\"Processes\", j=\"Material\").reset_index().rename(columns={\"M-\": \"Consumption\"})\n",
    "## add Input or Output column\n",
    "## x > 0 -> Input, x < 0 -> Output, x = 0 -> None\n",
    "long_df['IO'] = long_df['Consumption'].apply(lambda x: 1 if x > 0 else -1 if x < 0 else 0)\n",
    "## adding the text to it in case\n",
    "long_df['IO_txt'] = long_df['IO'].apply(lambda x: \"Input\" if x == 1 else \"Output\" if x == -1 else \"None\")\n",
    "long_df"
   ]
  },
  {
   "cell_type": "code",
   "execution_count": null,
   "metadata": {},
   "outputs": [],
   "source": [
    "## the dataframe is per process, \n",
    "long_df = long_df.sort_values(by=['Processes','Material'])\n",
    "long_df_nz = long_df.query(\"Consumption != 0\")"
   ]
  },
  {
   "cell_type": "code",
   "execution_count": null,
   "metadata": {},
   "outputs": [],
   "source": [
    "long_df"
   ]
  },
  {
   "cell_type": "code",
   "execution_count": null,
   "metadata": {},
   "outputs": [],
   "source": [
    "## Used Materials\n",
    "input_materials = long_df_nz.query(\"IO == 1\")\n",
    "used_materials_per_process = input_materials.groupby(\"Processes\")['Material'].apply(list).reset_index()\n",
    "used_materials_per_process.rename(columns={\"Material\": \"Inputs\"}, inplace=True)\n",
    "## Energy to Input \n",
    "used_consumption_materials_per_process = input_materials.groupby(\"Processes\")['Consumption'].apply(list).reset_index()\n",
    "used_consumption_materials_per_process.rename(columns={\"Consumption\": \"InputCost\"}, inplace=True)\n",
    "## merge \n",
    "used_materials_df = input_materials.merge(used_materials_per_process, on=\"Processes\", how=\"left\")\n",
    "used_materials_df = used_materials_df.merge(used_consumption_materials_per_process, on=\"Processes\", how=\"left\")\n",
    "\n",
    "\n",
    "## Produced materials\n",
    "output_materials = long_df_nz.query(\"IO == -1\")\n",
    "produced_materials_per_process = output_materials.groupby(\"Processes\")['Material'].apply(list).reset_index()\n",
    "produced_materials_per_process.rename(columns={\"Material\": \"Outputs\"}, inplace=True)\n",
    "## Consumption Needed\n",
    "produced_consumption_materials_per_process = output_materials.groupby(\"Processes\")['Consumption'].apply(list).reset_index()\n",
    "produced_consumption_materials_per_process.rename(columns={\"Consumption\": \"OutputCost\"}, inplace=True)\n",
    "## merge \n",
    "produced_materials_df = output_materials.merge(produced_materials_per_process, on=\"Processes\", how=\"left\")\n",
    "produced_materials_df = produced_materials_df.merge(produced_consumption_materials_per_process, on=\"Processes\", how=\"left\")\n",
    "produced_materials_df\n",
    "\n",
    "\n",
    "## tmp1 : used_materials drop Material\tConsumption\tIO\tIO_txt\n",
    "tmp1 = used_materials_df.drop(columns=[\"Material\", \"Consumption\", \"IO\", \"IO_txt\"])\n",
    "## tmp2: produced_materials_df\n",
    "tmp2 = produced_materials_df.drop(columns=[\"Material\", \"Consumption\", \"IO\", \"IO_txt\"])\n",
    "tmp3 = tmp1.merge(tmp2, on=\"Processes\", how=\"left\")\n",
    "\n",
    "# output_cost = lambda x: x if x>0 else 0\n",
    "# input_cost = lambda x: x if x<0 else 0\n",
    "# ## map the function to the list\n",
    "tmp3['TotalOutputCost'] = tmp3['OutputCost'].apply(lambda x: sum(x))\n",
    "tmp3['TotalInputCost'] = tmp3['InputCost'].apply(lambda x: sum(x))\n",
    "## drop the duplicates \n",
    "tmp3 = tmp3.drop_duplicates('Processes')\n",
    "tmp3.head()\n"
   ]
  },
  {
   "cell_type": "code",
   "execution_count": null,
   "metadata": {},
   "outputs": [],
   "source": [
    "long_df_nz.drop(columns=['IO','IO_txt'])"
   ]
  },
  {
   "cell_type": "markdown",
   "metadata": {},
   "source": [
    "### Start the Database"
   ]
  },
  {
   "cell_type": "markdown",
   "metadata": {},
   "source": [
    "Essentially doing this \n",
    "\n",
    "1) Database \n",
    "2) Connection to DB with action \n",
    "3) Ask queries to the system"
   ]
  },
  {
   "cell_type": "code",
   "execution_count": 1,
   "metadata": {},
   "outputs": [],
   "source": [
    "## autoreload \n",
    "%load_ext autoreload\n",
    "%autoreload 2\n"
   ]
  },
  {
   "cell_type": "code",
   "execution_count": 2,
   "metadata": {},
   "outputs": [],
   "source": [
    "from db.Materials import Material \n",
    "from db.Processes import Process\n",
    "\n",
    "## helpers \n",
    "from db.db_helpers import (add_material, remove_material,update_material_name, clear_db,add_material_relationship)\n",
    "\n",
    "## connectors & environment variables\n",
    "from db.db_helpers import load_env_vars\n",
    "from db.connector import DBConnector"
   ]
  },
  {
   "cell_type": "code",
   "execution_count": 3,
   "metadata": {},
   "outputs": [
    {
     "name": "stdout",
     "output_type": "stream",
     "text": [
      "Loaded environment variables\n",
      "Connected to the database\n"
     ]
    },
    {
     "data": {
      "text/plain": [
       "[<Material: {'uuid': 'M99', 'name': 'K', 'quantity': 100, 'unit': 'ton', 'cost': 1000000000, 'description': 'Material 99 - is pure Silver', 'id': 2}>,\n",
       " <Material: {'uuid': 'M98', 'name': 'Ur', 'quantity': 999, 'unit': 'ton', 'cost': 99999999999, 'description': \"Material 98 - is pure Uranium, used in Max's Laboratory\", 'id': 3}>]"
      ]
     },
     "execution_count": 3,
     "metadata": {},
     "output_type": "execute_result"
    }
   ],
   "source": [
    "## loading environment variables to connect to the database \n",
    "env_vars = load_env_vars()\n",
    "## instantiate the connector \n",
    "connector = DBConnector(**env_vars)\n",
    "## start the connection \n",
    "connector._connect()\n",
    "## close the connection \n",
    "#connector._close()\n",
    "## getting all the Material nodes\n",
    "Material.nodes.all()"
   ]
  },
  {
   "cell_type": "code",
   "execution_count": 4,
   "metadata": {},
   "outputs": [
    {
     "name": "stdout",
     "output_type": "stream",
     "text": [
      "Material: M99-Hg added\n",
      "Material: M98-Ur added\n",
      "[<Material: {'uuid': 'M99', 'name': 'K', 'quantity': 100, 'unit': 'ton', 'cost': 1000000000, 'description': 'Material 99 - is pure Silver', 'id': 2}>, <Material: {'uuid': 'M98', 'name': 'Ur', 'quantity': 999, 'unit': 'ton', 'cost': 99999999999, 'description': \"Material 98 - is pure Uranium, used in Max's Laboratory\", 'id': 3}>, <Material: {'uuid': 'M99', 'name': 'Hg', 'quantity': 100, 'unit': 'ton', 'cost': 1000000000, 'description': 'Material 99 - is pure Silver', 'id': 4}>, <Material: {'uuid': 'M98', 'name': 'Ur', 'quantity': 999, 'unit': 'ton', 'cost': 99999999999, 'description': \"Material 98 - is pure Uranium, used in Max's Laboratory\", 'id': 5}>]\n",
      "Database cleared\n"
     ]
    },
    {
     "data": {
      "text/plain": [
       "([], [])"
      ]
     },
     "execution_count": 4,
     "metadata": {},
     "output_type": "execute_result"
    }
   ],
   "source": [
    "hg_dict = {\"uuid\": \"M99\",\n",
    "                 \"name\": \"Hg\",\n",
    "                 \"quantity\": 100, \"unit\": \"ton\",\n",
    "                 \"cost\": 1000000000,\n",
    "                 \"description\":\"Material 99 - is pure Silver\"} ## the dictionary for the first material\n",
    "\n",
    "hg,status = add_material(hg_dict)\n",
    "\n",
    "\n",
    "ur_dict = {\"uuid\": \"M98\",\n",
    "                 \"name\": \"Ur\",\n",
    "                 \"quantity\": 999, \"unit\": \"ton\",\n",
    "                 \"cost\": 99999999999,\n",
    "                 \"description\":\"Material 98 - is pure Uranium, used in Max's Laboratory\"} ## the dictionary for the first material\n",
    "\n",
    "ur,status2 = add_material(ur_dict)\n",
    "\n",
    "print(Material.nodes.all(),end='\\n')\n",
    "clear_db()"
   ]
  },
  {
   "cell_type": "code",
   "execution_count": 5,
   "metadata": {},
   "outputs": [
    {
     "name": "stdout",
     "output_type": "stream",
     "text": [
      "Database cleared\n",
      "Material: M99-Hg added\n",
      "Material: M98-Ur added\n",
      "Added relationship between M99 and M98\n",
      "Added relationship between M98 and M99\n",
      "Updated Material: M99 with new name: K\n"
     ]
    }
   ],
   "source": [
    "clear_db()\n",
    "## Silver\n",
    "hg,status = add_material(hg_dict)\n",
    "## Uranium \n",
    "ur,status2 = add_material(ur_dict)\n",
    "## create a relationship \n",
    "rel_status1 = add_material_relationship(hg, ur) ## hg --> ur \n",
    "rel_status2 = add_material_relationship(ur, hg) ## ur --> hg \n",
    "\n",
    "## update the material name \n",
    "old_uuid = \"M99\"\n",
    "new_name = 'K'\n",
    "upname1 = update_material_name(material_id=old_uuid, new_name=new_name)"
   ]
  },
  {
   "cell_type": "code",
   "execution_count": 6,
   "metadata": {},
   "outputs": [],
   "source": [
    "## add processes \n",
    "process_dict = {\"uuid\": \"P1\",\n",
    "                \"name\": \"Process 1\",\n",
    "                \"materials_used\": \"M99\",\n",
    "                \"output_of_process\": \"M98\",\n",
    "                \"description\": \"Process 1 - is used to produce K\",\n",
    "                \"total_input_cost\": 1000000000,\n",
    "                \"total_output_cost\": -99999\n",
    "                }\n",
    "\n",
    "p1 = Process(**process_dict).save()"
   ]
  },
  {
   "cell_type": "code",
   "execution_count": 7,
   "metadata": {},
   "outputs": [
    {
     "data": {
      "text/plain": [
       "True"
      ]
     },
     "execution_count": 7,
     "metadata": {},
     "output_type": "execute_result"
    }
   ],
   "source": [
    "## connect a material as input for the process\n",
    "p1.input_material.connect(hg)"
   ]
  },
  {
   "cell_type": "code",
   "execution_count": 8,
   "metadata": {},
   "outputs": [
    {
     "data": {
      "text/plain": [
       "True"
      ]
     },
     "execution_count": 8,
     "metadata": {},
     "output_type": "execute_result"
    }
   ],
   "source": [
    "## connect the process as output for a material\n",
    "p1.output_material.connect(ur)"
   ]
  },
  {
   "cell_type": "code",
   "execution_count": null,
   "metadata": {},
   "outputs": [],
   "source": [
    "## add relationships of the processes. \n",
    "\n",
    "## the input will be Material99\n",
    "\n",
    "## the output will be Material98"
   ]
  },
  {
   "cell_type": "code",
   "execution_count": null,
   "metadata": {},
   "outputs": [],
   "source": [
    "#driver = GraphDatabase.driver(URL, auth=(username, password))\n",
    "# neo_url = \"http://localhost:7474\"\n",
    "# driver = GraphDatabase.driver(neo_url, auth=(username, password))\n",
    "\n",
    "# with driver.session() as sess:\n",
    "    \n",
    "    \n",
    "    "
   ]
  },
  {
   "cell_type": "code",
   "execution_count": null,
   "metadata": {},
   "outputs": [],
   "source": [
    "# from neo4j import GraphDatabase\n",
    "\n",
    "# driver = GraphDatabase.driver(URL, auth=(username, password))\n",
    "\n",
    "# def create_friend_of(tx, name, friend):\n",
    "#     tx.run(\"MATCH (a:Person) WHERE a.name = $name \"\n",
    "#            \"CREATE (a)-[:KNOWS]->(:Person {name: $friend})\",\n",
    "#            name=name, friend=friend)\n",
    "\n",
    "# with driver.session() as session:\n",
    "#     session.write_transaction(create_friend_of, \"Alice\", \"Bob\")\n",
    "\n",
    "# with driver.session() as session:\n",
    "#     session.write_transaction(create_friend_of, \"Alice\", \"Carl\")\n",
    "\n",
    "# driver.close()"
   ]
  },
  {
   "cell_type": "code",
   "execution_count": null,
   "metadata": {},
   "outputs": [],
   "source": []
  }
 ],
 "metadata": {
  "kernelspec": {
   "display_name": "Python 3.9.12 ('CircularEconomy-7zFOP8Dc')",
   "language": "python",
   "name": "python3"
  },
  "language_info": {
   "codemirror_mode": {
    "name": "ipython",
    "version": 3
   },
   "file_extension": ".py",
   "mimetype": "text/x-python",
   "name": "python",
   "nbconvert_exporter": "python",
   "pygments_lexer": "ipython3",
   "version": "3.9.12"
  },
  "orig_nbformat": 4,
  "vscode": {
   "interpreter": {
    "hash": "f611bebe3a24ac23c9498ced9b25d027e899fd18554849a982bc875ba0f99da1"
   }
  }
 },
 "nbformat": 4,
 "nbformat_minor": 2
}
