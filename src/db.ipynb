{
 "cells": [
  {
   "cell_type": "markdown",
   "metadata": {},
   "source": [
    "## Setting the Database"
   ]
  },
  {
   "cell_type": "markdown",
   "metadata": {},
   "source": [
    "### Loading DataFrame & Change to desired input format for DB"
   ]
  },
  {
   "cell_type": "code",
   "execution_count": null,
   "metadata": {},
   "outputs": [],
   "source": [
    "## loading the data \n",
    "import pandas as pd\n",
    "## defining the path \n",
    "PATH = \"./data/clean_data.csv\"\n",
    "## loading \n",
    "df = pd.read_csv(PATH)\n",
    "## reseting indeces\n",
    "dfa = df.reset_index(drop=True)\n",
    "\n",
    "## number of materials \n",
    "mats = [x for x in df.columns if \"M-\" in x]\n",
    "n_mats = len(mats)\n",
    "print(n_mats)\n",
    "## current dataframe: Processes | Material 1| Material 2| Material 3| ... \n",
    "## convert to Processes | Materials | Values\n",
    "long_df = pd.wide_to_long(dfa, [\"M-\"], i=\"Processes\", j=\"Material\").reset_index().rename(columns={\"M-\": \"Consumption\"})\n",
    "## add Input or Output column\n",
    "## x > 0 -> Input, x < 0 -> Output, x = 0 -> None\n",
    "long_df['IO'] = long_df['Consumption'].apply(lambda x: 1 if x > 0 else -1 if x < 0 else 0)\n",
    "## adding the text to it in case\n",
    "long_df['IO_txt'] = long_df['IO'].apply(lambda x: \"Input\" if x == 1 else \"Output\" if x == -1 else \"None\")\n",
    "\n",
    "\n",
    "long_df['Processes'] = list(map(lambda x: f'P{int(x.split(\"-\")[1])}',long_df['Processes']))\n",
    "long_df['Material'] = list(map(lambda x: f\"M{x}\",long_df['Material']))\n",
    "\n",
    "\n",
    "## the dataframe is per process, \n",
    "long_df = long_df.sort_values(by=['Processes','Material'])\n",
    "long_df_nz = long_df.query(\"Consumption != 0\")\n",
    "\n",
    "\n",
    "## Used Materials\n",
    "input_materials = long_df_nz.query(\"IO == 1\")\n",
    "used_materials_per_process = input_materials.groupby(\"Processes\")['Material'].apply(list).reset_index()\n",
    "used_materials_per_process.rename(columns={\"Material\": \"Inputs\"}, inplace=True)\n",
    "## Energy to Input \n",
    "used_consumption_materials_per_process = input_materials.groupby(\"Processes\")['Consumption'].apply(list).reset_index()\n",
    "used_consumption_materials_per_process.rename(columns={\"Consumption\": \"InputCost\"}, inplace=True)\n",
    "## merge \n",
    "used_materials_df = input_materials.merge(used_materials_per_process, on=\"Processes\", how=\"left\")\n",
    "used_materials_df = used_materials_df.merge(used_consumption_materials_per_process, on=\"Processes\", how=\"left\")\n",
    "\n",
    "\n",
    "## Produced materials\n",
    "output_materials = long_df_nz.query(\"IO == -1\")\n",
    "produced_materials_per_process = output_materials.groupby(\"Processes\")['Material'].apply(list).reset_index()\n",
    "produced_materials_per_process.rename(columns={\"Material\": \"Outputs\"}, inplace=True)\n",
    "## Consumption Needed\n",
    "produced_consumption_materials_per_process = output_materials.groupby(\"Processes\")['Consumption'].apply(list).reset_index()\n",
    "produced_consumption_materials_per_process.rename(columns={\"Consumption\": \"OutputCost\"}, inplace=True)\n",
    "## merge \n",
    "produced_materials_df = output_materials.merge(produced_materials_per_process, on=\"Processes\", how=\"left\")\n",
    "produced_materials_df = produced_materials_df.merge(produced_consumption_materials_per_process, on=\"Processes\", how=\"left\")\n",
    "produced_materials_df\n",
    "\n",
    "\n",
    "## tmp1 : used_materials drop Material\tConsumption\tIO\tIO_txt\n",
    "tmp1 = used_materials_df.drop(columns=[\"Material\", \"Consumption\", \"IO\", \"IO_txt\"])\n",
    "## tmp2: produced_materials_df\n",
    "tmp2 = produced_materials_df.drop(columns=[\"Material\", \"Consumption\", \"IO\", \"IO_txt\"])\n",
    "tmp3 = tmp1.merge(tmp2, on=\"Processes\", how=\"left\")\n",
    "\n",
    "# output_cost = lambda x: x if x>0 else 0\n",
    "# input_cost = lambda x: x if x<0 else 0\n",
    "# ## map the function to the list\n",
    "tmp3['TotalOutputCost'] = tmp3['OutputCost'].apply(lambda x: sum(x))\n",
    "tmp3['TotalInputCost'] = tmp3['InputCost'].apply(lambda x: sum(x))\n",
    "## drop the duplicates \n",
    "tmp3 = tmp3.drop_duplicates('Processes')\n",
    "tmp3.head()\n",
    "\n",
    "to_use = long_df_nz.drop(columns=['IO','IO_txt'])\n",
    "to_use.to_csv(\"./data/final_df_for_db.csv\", index=False)"
   ]
  },
  {
   "cell_type": "code",
   "execution_count": null,
   "metadata": {},
   "outputs": [],
   "source": [
    "tmp3"
   ]
  },
  {
   "cell_type": "code",
   "execution_count": null,
   "metadata": {},
   "outputs": [],
   "source": [
    "tmp3.head()"
   ]
  },
  {
   "cell_type": "code",
   "execution_count": null,
   "metadata": {},
   "outputs": [],
   "source": [
    "## for that dataframe \n",
    "\n",
    "material = \"M1\"\n",
    "\n",
    "l = [\"M10\",\"M2\",\"M3\",\"M4\",\"M5\",\"M6\",\"M7\",\"M8\",\"M9\",\"M1\"]\n",
    "idxs = []\n",
    "for idx, row in tmp3.iterrows():\n",
    "    if material in row['Inputs']:\n",
    "        idxs.append(idx)\n",
    "## filter the dataframe by the idxs\n",
    "tmp3.loc[idxs]"
   ]
  },
  {
   "cell_type": "markdown",
   "metadata": {},
   "source": [
    "### Start the Database"
   ]
  },
  {
   "cell_type": "markdown",
   "metadata": {},
   "source": [
    "Essentially doing this \n",
    "\n",
    "1) Database \n",
    "2) Connection to DB with action \n",
    "3) Ask queries to the system"
   ]
  },
  {
   "cell_type": "code",
   "execution_count": null,
   "metadata": {},
   "outputs": [],
   "source": [
    "## autoreload \n",
    "%load_ext autoreload\n",
    "%autoreload 2\n"
   ]
  },
  {
   "cell_type": "code",
   "execution_count": null,
   "metadata": {},
   "outputs": [],
   "source": [
    "## importing the connectors \n",
    "from db.connector import DBConnector\n",
    "## load the environment variables\n",
    "from db.db_helpers import load_env_vars, clear_db\n",
    "\n",
    "## import the materials \n",
    "from db.Materials import (Material, material_payload,\n",
    "                          populate_materials_from_df,\n",
    "                          add_material,remove_material,\n",
    "                          update_material_name,update_material_quantity,\n",
    "                          add_material_relationship)\n",
    "\n",
    "## import the processes \n",
    "from db.Processes import (Process, process_payload,\n",
    "                          populate_process_from_df,add_process)"
   ]
  },
  {
   "cell_type": "code",
   "execution_count": null,
   "metadata": {},
   "outputs": [],
   "source": [
    "## loading environment variables to connect to the database \n",
    "env_vars = load_env_vars()\n",
    "## instantiate the connector \n",
    "connector = DBConnector(**env_vars)\n",
    "## start the connection \n",
    "connector._connect()\n",
    "## close the connection \n",
    "#connector._close()\n",
    "## getting all the Material nodes\n",
    "#Material.nodes.all()\n",
    "clear_db()"
   ]
  },
  {
   "cell_type": "markdown",
   "metadata": {},
   "source": [
    "### Testing the db "
   ]
  },
  {
   "cell_type": "code",
   "execution_count": null,
   "metadata": {},
   "outputs": [],
   "source": [
    "hg_dict = {\"uuid\": \"M99\",\n",
    "                 \"name\": \"Hg\",\n",
    "                 \"quantity\": 100, \"unit\": \"ton\",\n",
    "                 \"cost\": 1000000000,\n",
    "                 \"description\":\"Material 99 - is pure Silver\"} ## the dictionary for the first material\n",
    "\n",
    "hg,status = add_material(hg_dict,verbose=True)\n",
    "\n",
    "\n",
    "ur_dict = {\"uuid\": \"M98\",\n",
    "                 \"name\": \"Ur\",\n",
    "                 \"quantity\": 999, \"unit\": \"ton\",\n",
    "                 \"cost\": 99999999999,\n",
    "                 \"description\":\"Material 98 - is pure Uranium, used in Max's Laboratory\"} ## the dictionary for the first material\n",
    "\n",
    "ur,status2 = add_material(ur_dict,verbose=True)\n",
    "\n",
    "print(Material.nodes.all(),end='\\n')\n",
    "#clear_db()"
   ]
  },
  {
   "cell_type": "code",
   "execution_count": null,
   "metadata": {},
   "outputs": [],
   "source": [
    "clear_db()\n",
    "## Silver\n",
    "hg,status = add_material(hg_dict,verbose=False)\n",
    "## Uranium \n",
    "ur,status2 = add_material(ur_dict,verbose=False)\n",
    "## create a relationship \n",
    "rel_status1 = add_material_relationship(hg, ur) ## hg --> ur \n",
    "rel_status2 = add_material_relationship(ur, hg) ## ur --> hg \n",
    "\n",
    "## update the material name \n",
    "old_uuid = \"M99\"\n",
    "new_name = 'K'\n",
    "upname1 = update_material_name(material_id=old_uuid, new_name=new_name)"
   ]
  },
  {
   "cell_type": "markdown",
   "metadata": {},
   "source": [
    "### Populating the db"
   ]
  },
  {
   "cell_type": "code",
   "execution_count": null,
   "metadata": {},
   "outputs": [],
   "source": [
    "populate_materials_from_df(df=to_use, verbose=False)"
   ]
  },
  {
   "cell_type": "code",
   "execution_count": null,
   "metadata": {},
   "outputs": [],
   "source": [
    "## populate the processes\n",
    "populate_process_from_df(df=to_use, verbose=True)"
   ]
  },
  {
   "cell_type": "code",
   "execution_count": null,
   "metadata": {},
   "outputs": [],
   "source": [
    "\n",
    "Material.nodes.all()"
   ]
  },
  {
   "cell_type": "code",
   "execution_count": null,
   "metadata": {},
   "outputs": [],
   "source": [
    "\n",
    "Process.nodes.all()"
   ]
  },
  {
   "cell_type": "code",
   "execution_count": 224,
   "metadata": {},
   "outputs": [],
   "source": [
    "## class for managing the queries to the database \n",
    "from db.Query import Query"
   ]
  },
  {
   "cell_type": "code",
   "execution_count": 226,
   "metadata": {},
   "outputs": [
    {
     "data": {
      "text/plain": [
       "'MATCH (n:Material {uuid: \"M1\"})-[r]-(m) RETURN r, n, m'"
      ]
     },
     "execution_count": 226,
     "metadata": {},
     "output_type": "execute_result"
    }
   ],
   "source": [
    "Q.query"
   ]
  },
  {
   "cell_type": "code",
   "execution_count": 225,
   "metadata": {},
   "outputs": [
    {
     "name": "stdout",
     "output_type": "stream",
     "text": [
      "[<Node id=50 labels=frozenset({'Material'}) properties={'quantity': -73, 'name': 'M1__', 'uuid': 'M1'}>]\n",
      "([[<Node id=70 labels=frozenset({'Process'}) properties={'name': 'P1__XX', 'uuid': 'P1'}>]], ['n'])\n",
      "([[<Relationship id=287 nodes=(<Node id=99 labels=frozenset({'Process'}) properties={'name': 'P9__XX', 'uuid': 'P9'}>, <Node id=50 labels=frozenset({'Material'}) properties={'quantity': -73, 'name': 'M1__', 'uuid': 'M1'}>) type='OUTPUT_MATERIAL' properties={}>, <Node id=50 labels=frozenset({'Material'}) properties={'quantity': -73, 'name': 'M1__', 'uuid': 'M1'}>, <Node id=99 labels=frozenset({'Process'}) properties={'name': 'P9__XX', 'uuid': 'P9'}>], [<Relationship id=277 nodes=(<Node id=98 labels=frozenset({'Process'}) properties={'name': 'P8__XX', 'uuid': 'P8'}>, <Node id=50 labels=frozenset({'Material'}) properties={'quantity': -73, 'name': 'M1__', 'uuid': 'M1'}>) type='OUTPUT_MATERIAL' properties={}>, <Node id=50 labels=frozenset({'Material'}) properties={'quantity': -73, 'name': 'M1__', 'uuid': 'M1'}>, <Node id=98 labels=frozenset({'Process'}) properties={'name': 'P8__XX', 'uuid': 'P8'}>], [<Relationship id=269 nodes=(<Node id=97 labels=frozenset({'Process'}) properties={'name': 'P7__XX', 'uuid': 'P7'}>, <Node id=50 labels=frozenset({'Material'}) properties={'quantity': -73, 'name': 'M1__', 'uuid': 'M1'}>) type='OUTPUT_MATERIAL' properties={}>, <Node id=50 labels=frozenset({'Material'}) properties={'quantity': -73, 'name': 'M1__', 'uuid': 'M1'}>, <Node id=97 labels=frozenset({'Process'}) properties={'name': 'P7__XX', 'uuid': 'P7'}>], [<Relationship id=204 nodes=(<Node id=90 labels=frozenset({'Process'}) properties={'name': 'P28__XX', 'uuid': 'P28'}>, <Node id=50 labels=frozenset({'Material'}) properties={'quantity': -73, 'name': 'M1__', 'uuid': 'M1'}>) type='OUTPUT_MATERIAL' properties={}>, <Node id=50 labels=frozenset({'Material'}) properties={'quantity': -73, 'name': 'M1__', 'uuid': 'M1'}>, <Node id=90 labels=frozenset({'Process'}) properties={'name': 'P28__XX', 'uuid': 'P28'}>], [<Relationship id=181 nodes=(<Node id=50 labels=frozenset({'Material'}) properties={'quantity': -73, 'name': 'M1__', 'uuid': 'M1'}>, <Node id=88 labels=frozenset({'Process'}) properties={'name': 'P26__XX', 'uuid': 'P26'}>) type='INPUT_MATERIAL' properties={}>, <Node id=50 labels=frozenset({'Material'}) properties={'quantity': -73, 'name': 'M1__', 'uuid': 'M1'}>, <Node id=88 labels=frozenset({'Process'}) properties={'name': 'P26__XX', 'uuid': 'P26'}>], [<Relationship id=160 nodes=(<Node id=86 labels=frozenset({'Process'}) properties={'name': 'P24__XX', 'uuid': 'P24'}>, <Node id=50 labels=frozenset({'Material'}) properties={'quantity': -73, 'name': 'M1__', 'uuid': 'M1'}>) type='OUTPUT_MATERIAL' properties={}>, <Node id=50 labels=frozenset({'Material'}) properties={'quantity': -73, 'name': 'M1__', 'uuid': 'M1'}>, <Node id=86 labels=frozenset({'Process'}) properties={'name': 'P24__XX', 'uuid': 'P24'}>], [<Relationship id=130 nodes=(<Node id=83 labels=frozenset({'Process'}) properties={'name': 'P21__XX', 'uuid': 'P21'}>, <Node id=50 labels=frozenset({'Material'}) properties={'quantity': -73, 'name': 'M1__', 'uuid': 'M1'}>) type='OUTPUT_MATERIAL' properties={}>, <Node id=50 labels=frozenset({'Material'}) properties={'quantity': -73, 'name': 'M1__', 'uuid': 'M1'}>, <Node id=83 labels=frozenset({'Process'}) properties={'name': 'P21__XX', 'uuid': 'P21'}>], [<Relationship id=119 nodes=(<Node id=82 labels=frozenset({'Process'}) properties={'name': 'P20__XX', 'uuid': 'P20'}>, <Node id=50 labels=frozenset({'Material'}) properties={'quantity': -73, 'name': 'M1__', 'uuid': 'M1'}>) type='OUTPUT_MATERIAL' properties={}>, <Node id=50 labels=frozenset({'Material'}) properties={'quantity': -73, 'name': 'M1__', 'uuid': 'M1'}>, <Node id=82 labels=frozenset({'Process'}) properties={'name': 'P20__XX', 'uuid': 'P20'}>], [<Relationship id=98 nodes=(<Node id=80 labels=frozenset({'Process'}) properties={'name': 'P19__XX', 'uuid': 'P19'}>, <Node id=50 labels=frozenset({'Material'}) properties={'quantity': -73, 'name': 'M1__', 'uuid': 'M1'}>) type='OUTPUT_MATERIAL' properties={}>, <Node id=50 labels=frozenset({'Material'}) properties={'quantity': -73, 'name': 'M1__', 'uuid': 'M1'}>, <Node id=80 labels=frozenset({'Process'}) properties={'name': 'P19__XX', 'uuid': 'P19'}>], [<Relationship id=87 nodes=(<Node id=79 labels=frozenset({'Process'}) properties={'name': 'P18__XX', 'uuid': 'P18'}>, <Node id=50 labels=frozenset({'Material'}) properties={'quantity': -73, 'name': 'M1__', 'uuid': 'M1'}>) type='OUTPUT_MATERIAL' properties={}>, <Node id=50 labels=frozenset({'Material'}) properties={'quantity': -73, 'name': 'M1__', 'uuid': 'M1'}>, <Node id=79 labels=frozenset({'Process'}) properties={'name': 'P18__XX', 'uuid': 'P18'}>], [<Relationship id=56 nodes=(<Node id=50 labels=frozenset({'Material'}) properties={'quantity': -73, 'name': 'M1__', 'uuid': 'M1'}>, <Node id=76 labels=frozenset({'Process'}) properties={'name': 'P15__XX', 'uuid': 'P15'}>) type='INPUT_MATERIAL' properties={}>, <Node id=50 labels=frozenset({'Material'}) properties={'quantity': -73, 'name': 'M1__', 'uuid': 'M1'}>, <Node id=76 labels=frozenset({'Process'}) properties={'name': 'P15__XX', 'uuid': 'P15'}>], [<Relationship id=38 nodes=(<Node id=50 labels=frozenset({'Material'}) properties={'quantity': -73, 'name': 'M1__', 'uuid': 'M1'}>, <Node id=74 labels=frozenset({'Process'}) properties={'name': 'P13__XX', 'uuid': 'P13'}>) type='INPUT_MATERIAL' properties={}>, <Node id=50 labels=frozenset({'Material'}) properties={'quantity': -73, 'name': 'M1__', 'uuid': 'M1'}>, <Node id=74 labels=frozenset({'Process'}) properties={'name': 'P13__XX', 'uuid': 'P13'}>], [<Relationship id=28 nodes=(<Node id=50 labels=frozenset({'Material'}) properties={'quantity': -73, 'name': 'M1__', 'uuid': 'M1'}>, <Node id=73 labels=frozenset({'Process'}) properties={'name': 'P12__XX', 'uuid': 'P12'}>) type='INPUT_MATERIAL' properties={}>, <Node id=50 labels=frozenset({'Material'}) properties={'quantity': -73, 'name': 'M1__', 'uuid': 'M1'}>, <Node id=73 labels=frozenset({'Process'}) properties={'name': 'P12__XX', 'uuid': 'P12'}>], [<Relationship id=16 nodes=(<Node id=72 labels=frozenset({'Process'}) properties={'name': 'P11__XX', 'uuid': 'P11'}>, <Node id=50 labels=frozenset({'Material'}) properties={'quantity': -73, 'name': 'M1__', 'uuid': 'M1'}>) type='OUTPUT_MATERIAL' properties={}>, <Node id=50 labels=frozenset({'Material'}) properties={'quantity': -73, 'name': 'M1__', 'uuid': 'M1'}>, <Node id=72 labels=frozenset({'Process'}) properties={'name': 'P11__XX', 'uuid': 'P11'}>], [<Relationship id=0 nodes=(<Node id=50 labels=frozenset({'Material'}) properties={'quantity': -73, 'name': 'M1__', 'uuid': 'M1'}>, <Node id=70 labels=frozenset({'Process'}) properties={'name': 'P1__XX', 'uuid': 'P1'}>) type='INPUT_MATERIAL' properties={}>, <Node id=50 labels=frozenset({'Material'}) properties={'quantity': -73, 'name': 'M1__', 'uuid': 'M1'}>, <Node id=70 labels=frozenset({'Process'}) properties={'name': 'P1__XX', 'uuid': 'P1'}>]], ['r', 'n', 'm'])\n"
     ]
    }
   ],
   "source": [
    "## instantiate the object \n",
    "Q = Query(db)\n",
    "## make a material query \n",
    "Q.material_query(\"M1\")\n",
    "print(Q.run_query()[0][0])\n",
    "## make a process query\n",
    "Q.process_query(\"P1\")\n",
    "print(Q.run_query())\n",
    "## make a subgraph query\n",
    "Q.subgraph_query(\"M1\",\"Material\")\n",
    "print(Q.run_query())\n"
   ]
  },
  {
   "cell_type": "code",
   "execution_count": null,
   "metadata": {},
   "outputs": [],
   "source": [
    "def parse_subgraph(subgraph:tuple) -> list:\n",
    "    \"\"\"Returns a list of tuples for the subgraph\"\"\"\n",
    "    ## get the relationships\n",
    "    relationships = [rel for subg in subgraph[0] for rel in subg if type(rel) != neo4j.graph.Node]\n",
    "    ## retrieve the data, store as generator for lazy loading\n",
    "    data = ((x.type, x.nodes[0]._properties['uuid'],x.nodes[1]._properties['uuid']) for x in relationships)\n",
    "    return data, relationships"
   ]
  },
  {
   "cell_type": "code",
   "execution_count": null,
   "metadata": {},
   "outputs": [],
   "source": [
    "def parsed_subgraph_to_df(parsed_subgraph:list,verbose:bool=False) -> pd.DataFrame:\n",
    "    \"\"\"Returns the dataframe of a parsed subgraph\"\"\"\n",
    "    ## make the dataframe\n",
    "    df = pd.DataFrame(parsed_subgraph, columns=['Relationship', 'From', 'To']).sort_values(by=['Relationship'],ascending=True)\n",
    "    if verbose:\n",
    "        from termcolor import colored\n",
    "        for e in df.itertuples():\n",
    "            ## type of the relationship\n",
    "            _node_a,_node_b = e[2], e[3]\n",
    "            if e[1] =='INPUT_MATERIAL':\n",
    "                ## then \"M1\" is INPUT_MATERIAL for \"P2\"; \"M1\" --> \"P2\"\n",
    "                _type_c = colored(\"INPUT_MATERIAL \", \"green\")\n",
    "                print(f\"{_type_c} for Process {_node_b}; {_node_a} --> {_node_b}\")\n",
    "            elif e[1] =='OUTPUT_MATERIAL':\n",
    "                _type_c = colored(\"OUTPUT_MATERIAL\", \"red\")\n",
    "                ## then \"M1\" is OUTPUT_MATERIAL for \"P2\"; \"P2\" --> \"M1\"\n",
    "                print(f\"{_type_c} for Process {_node_a}; {_node_a} --> {_node_b}\")\n",
    "    return df"
   ]
  },
  {
   "cell_type": "code",
   "execution_count": null,
   "metadata": {},
   "outputs": [],
   "source": [
    "data,rels = parse_subgraph(subgraph_mat)"
   ]
  },
  {
   "cell_type": "code",
   "execution_count": null,
   "metadata": {},
   "outputs": [],
   "source": []
  },
  {
   "cell_type": "code",
   "execution_count": null,
   "metadata": {},
   "outputs": [],
   "source": [
    "df = parsed_subgraph_to_df(data,verbose=True)"
   ]
  },
  {
   "cell_type": "code",
   "execution_count": null,
   "metadata": {},
   "outputs": [],
   "source": []
  }
 ],
 "metadata": {
  "kernelspec": {
   "display_name": "Python 3.9.12 ('CircularEconomy-7zFOP8Dc')",
   "language": "python",
   "name": "python3"
  },
  "language_info": {
   "codemirror_mode": {
    "name": "ipython",
    "version": 3
   },
   "file_extension": ".py",
   "mimetype": "text/x-python",
   "name": "python",
   "nbconvert_exporter": "python",
   "pygments_lexer": "ipython3",
   "version": "3.9.12"
  },
  "orig_nbformat": 4,
  "vscode": {
   "interpreter": {
    "hash": "f611bebe3a24ac23c9498ced9b25d027e899fd18554849a982bc875ba0f99da1"
   }
  }
 },
 "nbformat": 4,
 "nbformat_minor": 2
}
