{
 "cells": [
  {
   "cell_type": "markdown",
   "metadata": {},
   "source": [
    "## Setting the Database"
   ]
  },
  {
   "cell_type": "code",
   "execution_count": null,
   "metadata": {},
   "outputs": [],
   "source": [
    "## autoreload \n",
    "%load_ext autoreload\n",
    "%autoreload 2\n",
    "\n",
    "## defining the paths: \n",
    "PATH = \"./data/clean_data.csv\"\n",
    "SAVE_DIR = \"./data/final_df_for_db.csv\""
   ]
  },
  {
   "cell_type": "markdown",
   "metadata": {},
   "source": [
    "### Loading DataFrame"
   ]
  },
  {
   "cell_type": "code",
   "execution_count": null,
   "metadata": {},
   "outputs": [],
   "source": []
  },
  {
   "cell_type": "code",
   "execution_count": null,
   "metadata": {},
   "outputs": [],
   "source": [
    "## loading helpers \n",
    "from utils.helpers import prepare_dataframe\n",
    "\n",
    "to_use = prepare_dataframe(path = PATH, save_dir = SAVE_DIR)"
   ]
  },
  {
   "cell_type": "markdown",
   "metadata": {},
   "source": [
    "### Start the Database"
   ]
  },
  {
   "cell_type": "markdown",
   "metadata": {},
   "source": [
    "Essentially doing this \n",
    "\n",
    "1) Database \n",
    "2) Connection to DB with action \n",
    "3) Ask queries to the system"
   ]
  },
  {
   "cell_type": "code",
   "execution_count": null,
   "metadata": {},
   "outputs": [],
   "source": []
  },
  {
   "cell_type": "code",
   "execution_count": null,
   "metadata": {},
   "outputs": [],
   "source": [
    "## importing the connectors \n",
    "from db.connector import DBConnector\n",
    "## load the environment variables\n",
    "from db.db_helpers import load_env_vars, clear_db\n",
    "\n",
    "## import the materials \n",
    "from db.Materials import (Material,populate_materials_from_df,\n",
    "                          add_material,update_material_name,\n",
    "                          add_material_relationship)\n",
    "\n",
    "## import the processes \n",
    "from db.Processes import (Process,populate_process_from_df)"
   ]
  },
  {
   "cell_type": "code",
   "execution_count": null,
   "metadata": {},
   "outputs": [],
   "source": [
    "## loading environment variables to connect to the database \n",
    "env_vars = load_env_vars()\n",
    "## instantiate the connector \n",
    "connector = DBConnector(**env_vars)\n",
    "## start the connection \n",
    "connector._connect()\n",
    "## close the connection \n",
    "#connector._close()\n",
    "## getting all the Material nodes\n",
    "#Material.nodes.all()\n",
    "clear_db()"
   ]
  },
  {
   "cell_type": "markdown",
   "metadata": {},
   "source": [
    "### Testing the db "
   ]
  },
  {
   "cell_type": "code",
   "execution_count": null,
   "metadata": {},
   "outputs": [],
   "source": [
    "hg_dict = {\"uuid\": \"M99\",\n",
    "                 \"name\": \"Hg\",\n",
    "                 \"quantity\": 100, \"unit\": \"ton\",\n",
    "                 \"cost\": 1000000000,\n",
    "                 \"description\":\"Material 99 - is pure Silver\"} ## the dictionary for the first material\n",
    "\n",
    "hg,status = add_material(hg_dict,verbose=True)\n",
    "\n",
    "\n",
    "ur_dict = {\"uuid\": \"M98\",\n",
    "                 \"name\": \"Ur\",\n",
    "                 \"quantity\": 999, \"unit\": \"ton\",\n",
    "                 \"cost\": 99999999999,\n",
    "                 \"description\":\"Material 98 - is pure Uranium, used in Max's Laboratory\"} ## the dictionary for the first material\n",
    "\n",
    "ur,status2 = add_material(ur_dict,verbose=True)\n",
    "\n",
    "print(Material.nodes.all(),end='\\n')\n",
    "#clear_db()"
   ]
  },
  {
   "cell_type": "code",
   "execution_count": null,
   "metadata": {},
   "outputs": [],
   "source": [
    "clear_db()\n",
    "## Silver\n",
    "hg,status = add_material(hg_dict,verbose=False)\n",
    "## Uranium \n",
    "ur,status2 = add_material(ur_dict,verbose=False)\n",
    "## create a relationship \n",
    "rel_status1 = add_material_relationship(hg, ur) ## hg --> ur \n",
    "rel_status2 = add_material_relationship(ur, hg) ## ur --> hg \n",
    "\n",
    "## update the material name \n",
    "old_uuid = \"M99\"\n",
    "new_name = 'K'\n",
    "upname1 = update_material_name(material_id=old_uuid, new_name=new_name)"
   ]
  },
  {
   "cell_type": "markdown",
   "metadata": {},
   "source": [
    "### Populating the db"
   ]
  },
  {
   "cell_type": "code",
   "execution_count": null,
   "metadata": {},
   "outputs": [],
   "source": [
    "populate_materials_from_df(df=to_use, verbose=True)"
   ]
  },
  {
   "cell_type": "code",
   "execution_count": null,
   "metadata": {},
   "outputs": [],
   "source": [
    "## populate the processes\n",
    "populate_process_from_df(df=to_use, verbose=True)"
   ]
  },
  {
   "cell_type": "code",
   "execution_count": null,
   "metadata": {},
   "outputs": [],
   "source": [
    "Material.nodes.all()"
   ]
  },
  {
   "cell_type": "code",
   "execution_count": null,
   "metadata": {},
   "outputs": [],
   "source": [
    "Process.nodes.all()"
   ]
  },
  {
   "cell_type": "markdown",
   "metadata": {},
   "source": [
    "### Queries"
   ]
  },
  {
   "cell_type": "code",
   "execution_count": null,
   "metadata": {},
   "outputs": [],
   "source": [
    "## class for managing the queries to the database \n",
    "from db.Query import Query\n",
    "from neomodel import db\n"
   ]
  },
  {
   "cell_type": "code",
   "execution_count": 38,
   "metadata": {},
   "outputs": [
    {
     "data": {
      "text/plain": [
       "'MATCH (n:Material {uuid: \"M1\"})-[r]-(m) RETURN r, n, m'"
      ]
     },
     "execution_count": 38,
     "metadata": {},
     "output_type": "execute_result"
    }
   ],
   "source": [
    "Q.query"
   ]
  },
  {
   "cell_type": "code",
   "execution_count": 41,
   "metadata": {},
   "outputs": [
    {
     "name": "stdout",
     "output_type": "stream",
     "text": [
      "[<Node id=100 labels=frozenset({'Material'}) properties={'quantity': -73, 'name': 'M1__', 'uuid': 'M1'}>]\n",
      "([[<Node id=120 labels=frozenset({'Process'}) properties={'name': 'P1__XX', 'uuid': 'P1'}>]], ['n'])\n",
      "([[<Relationship id=881 nodes=(<Node id=149 labels=frozenset({'Process'}) properties={'name': 'P9__XX', 'uuid': 'P9'}>, <Node id=100 labels=frozenset({'Material'}) properties={'quantity': -73, 'name': 'M1__', 'uuid': 'M1'}>) type='OUTPUT_MATERIAL' properties={}>, <Node id=100 labels=frozenset({'Material'}) properties={'quantity': -73, 'name': 'M1__', 'uuid': 'M1'}>, <Node id=149 labels=frozenset({'Process'}) properties={'name': 'P9__XX', 'uuid': 'P9'}>], [<Relationship id=871 nodes=(<Node id=148 labels=frozenset({'Process'}) properties={'name': 'P8__XX', 'uuid': 'P8'}>, <Node id=100 labels=frozenset({'Material'}) properties={'quantity': -73, 'name': 'M1__', 'uuid': 'M1'}>) type='OUTPUT_MATERIAL' properties={}>, <Node id=100 labels=frozenset({'Material'}) properties={'quantity': -73, 'name': 'M1__', 'uuid': 'M1'}>, <Node id=148 labels=frozenset({'Process'}) properties={'name': 'P8__XX', 'uuid': 'P8'}>], [<Relationship id=863 nodes=(<Node id=147 labels=frozenset({'Process'}) properties={'name': 'P7__XX', 'uuid': 'P7'}>, <Node id=100 labels=frozenset({'Material'}) properties={'quantity': -73, 'name': 'M1__', 'uuid': 'M1'}>) type='OUTPUT_MATERIAL' properties={}>, <Node id=100 labels=frozenset({'Material'}) properties={'quantity': -73, 'name': 'M1__', 'uuid': 'M1'}>, <Node id=147 labels=frozenset({'Process'}) properties={'name': 'P7__XX', 'uuid': 'P7'}>], [<Relationship id=798 nodes=(<Node id=140 labels=frozenset({'Process'}) properties={'name': 'P28__XX', 'uuid': 'P28'}>, <Node id=100 labels=frozenset({'Material'}) properties={'quantity': -73, 'name': 'M1__', 'uuid': 'M1'}>) type='OUTPUT_MATERIAL' properties={}>, <Node id=100 labels=frozenset({'Material'}) properties={'quantity': -73, 'name': 'M1__', 'uuid': 'M1'}>, <Node id=140 labels=frozenset({'Process'}) properties={'name': 'P28__XX', 'uuid': 'P28'}>], [<Relationship id=775 nodes=(<Node id=100 labels=frozenset({'Material'}) properties={'quantity': -73, 'name': 'M1__', 'uuid': 'M1'}>, <Node id=138 labels=frozenset({'Process'}) properties={'name': 'P26__XX', 'uuid': 'P26'}>) type='INPUT_MATERIAL' properties={}>, <Node id=100 labels=frozenset({'Material'}) properties={'quantity': -73, 'name': 'M1__', 'uuid': 'M1'}>, <Node id=138 labels=frozenset({'Process'}) properties={'name': 'P26__XX', 'uuid': 'P26'}>], [<Relationship id=754 nodes=(<Node id=136 labels=frozenset({'Process'}) properties={'name': 'P24__XX', 'uuid': 'P24'}>, <Node id=100 labels=frozenset({'Material'}) properties={'quantity': -73, 'name': 'M1__', 'uuid': 'M1'}>) type='OUTPUT_MATERIAL' properties={}>, <Node id=100 labels=frozenset({'Material'}) properties={'quantity': -73, 'name': 'M1__', 'uuid': 'M1'}>, <Node id=136 labels=frozenset({'Process'}) properties={'name': 'P24__XX', 'uuid': 'P24'}>], [<Relationship id=724 nodes=(<Node id=133 labels=frozenset({'Process'}) properties={'name': 'P21__XX', 'uuid': 'P21'}>, <Node id=100 labels=frozenset({'Material'}) properties={'quantity': -73, 'name': 'M1__', 'uuid': 'M1'}>) type='OUTPUT_MATERIAL' properties={}>, <Node id=100 labels=frozenset({'Material'}) properties={'quantity': -73, 'name': 'M1__', 'uuid': 'M1'}>, <Node id=133 labels=frozenset({'Process'}) properties={'name': 'P21__XX', 'uuid': 'P21'}>], [<Relationship id=713 nodes=(<Node id=132 labels=frozenset({'Process'}) properties={'name': 'P20__XX', 'uuid': 'P20'}>, <Node id=100 labels=frozenset({'Material'}) properties={'quantity': -73, 'name': 'M1__', 'uuid': 'M1'}>) type='OUTPUT_MATERIAL' properties={}>, <Node id=100 labels=frozenset({'Material'}) properties={'quantity': -73, 'name': 'M1__', 'uuid': 'M1'}>, <Node id=132 labels=frozenset({'Process'}) properties={'name': 'P20__XX', 'uuid': 'P20'}>], [<Relationship id=692 nodes=(<Node id=130 labels=frozenset({'Process'}) properties={'name': 'P19__XX', 'uuid': 'P19'}>, <Node id=100 labels=frozenset({'Material'}) properties={'quantity': -73, 'name': 'M1__', 'uuid': 'M1'}>) type='OUTPUT_MATERIAL' properties={}>, <Node id=100 labels=frozenset({'Material'}) properties={'quantity': -73, 'name': 'M1__', 'uuid': 'M1'}>, <Node id=130 labels=frozenset({'Process'}) properties={'name': 'P19__XX', 'uuid': 'P19'}>], [<Relationship id=681 nodes=(<Node id=129 labels=frozenset({'Process'}) properties={'name': 'P18__XX', 'uuid': 'P18'}>, <Node id=100 labels=frozenset({'Material'}) properties={'quantity': -73, 'name': 'M1__', 'uuid': 'M1'}>) type='OUTPUT_MATERIAL' properties={}>, <Node id=100 labels=frozenset({'Material'}) properties={'quantity': -73, 'name': 'M1__', 'uuid': 'M1'}>, <Node id=129 labels=frozenset({'Process'}) properties={'name': 'P18__XX', 'uuid': 'P18'}>], [<Relationship id=650 nodes=(<Node id=100 labels=frozenset({'Material'}) properties={'quantity': -73, 'name': 'M1__', 'uuid': 'M1'}>, <Node id=126 labels=frozenset({'Process'}) properties={'name': 'P15__XX', 'uuid': 'P15'}>) type='INPUT_MATERIAL' properties={}>, <Node id=100 labels=frozenset({'Material'}) properties={'quantity': -73, 'name': 'M1__', 'uuid': 'M1'}>, <Node id=126 labels=frozenset({'Process'}) properties={'name': 'P15__XX', 'uuid': 'P15'}>], [<Relationship id=632 nodes=(<Node id=100 labels=frozenset({'Material'}) properties={'quantity': -73, 'name': 'M1__', 'uuid': 'M1'}>, <Node id=124 labels=frozenset({'Process'}) properties={'name': 'P13__XX', 'uuid': 'P13'}>) type='INPUT_MATERIAL' properties={}>, <Node id=100 labels=frozenset({'Material'}) properties={'quantity': -73, 'name': 'M1__', 'uuid': 'M1'}>, <Node id=124 labels=frozenset({'Process'}) properties={'name': 'P13__XX', 'uuid': 'P13'}>], [<Relationship id=622 nodes=(<Node id=100 labels=frozenset({'Material'}) properties={'quantity': -73, 'name': 'M1__', 'uuid': 'M1'}>, <Node id=123 labels=frozenset({'Process'}) properties={'name': 'P12__XX', 'uuid': 'P12'}>) type='INPUT_MATERIAL' properties={}>, <Node id=100 labels=frozenset({'Material'}) properties={'quantity': -73, 'name': 'M1__', 'uuid': 'M1'}>, <Node id=123 labels=frozenset({'Process'}) properties={'name': 'P12__XX', 'uuid': 'P12'}>], [<Relationship id=610 nodes=(<Node id=122 labels=frozenset({'Process'}) properties={'name': 'P11__XX', 'uuid': 'P11'}>, <Node id=100 labels=frozenset({'Material'}) properties={'quantity': -73, 'name': 'M1__', 'uuid': 'M1'}>) type='OUTPUT_MATERIAL' properties={}>, <Node id=100 labels=frozenset({'Material'}) properties={'quantity': -73, 'name': 'M1__', 'uuid': 'M1'}>, <Node id=122 labels=frozenset({'Process'}) properties={'name': 'P11__XX', 'uuid': 'P11'}>], [<Relationship id=594 nodes=(<Node id=100 labels=frozenset({'Material'}) properties={'quantity': -73, 'name': 'M1__', 'uuid': 'M1'}>, <Node id=120 labels=frozenset({'Process'}) properties={'name': 'P1__XX', 'uuid': 'P1'}>) type='INPUT_MATERIAL' properties={}>, <Node id=100 labels=frozenset({'Material'}) properties={'quantity': -73, 'name': 'M1__', 'uuid': 'M1'}>, <Node id=120 labels=frozenset({'Process'}) properties={'name': 'P1__XX', 'uuid': 'P1'}>]], ['r', 'n', 'm'])\n"
     ]
    }
   ],
   "source": [
    "## instantiate the object \n",
    "Q = Query(db)\n",
    "## make a material query \n",
    "Q.material_query(\"M1\")\n",
    "print(Q.run_query()[0][0])\n",
    "## make a process query\n",
    "Q.process_query(\"P1\")\n",
    "print(Q.run_query())\n",
    "## make a subgraph query\n",
    "Q.subgraph_query(\"M1\",\"Material\")\n",
    "print(Q.run_query())"
   ]
  },
  {
   "cell_type": "markdown",
   "metadata": {},
   "source": [
    "### Parsing the Query output"
   ]
  },
  {
   "cell_type": "code",
   "execution_count": 35,
   "metadata": {},
   "outputs": [],
   "source": [
    "from utils.helpers import (parse_subgraph, parsed_subgraph_to_df)"
   ]
  },
  {
   "cell_type": "code",
   "execution_count": 39,
   "metadata": {},
   "outputs": [],
   "source": [
    "subgraph_mat = Q.run_query()\n",
    "data,rels = parse_subgraph(subgraph_mat)"
   ]
  },
  {
   "cell_type": "code",
   "execution_count": 37,
   "metadata": {},
   "outputs": [
    {
     "name": "stdout",
     "output_type": "stream",
     "text": [
      "\u001b[32mINPUT_MATERIAL \u001b[0m for Process P26; M1 --> P26\n",
      "\u001b[32mINPUT_MATERIAL \u001b[0m for Process P15; M1 --> P15\n",
      "\u001b[32mINPUT_MATERIAL \u001b[0m for Process P13; M1 --> P13\n",
      "\u001b[32mINPUT_MATERIAL \u001b[0m for Process P12; M1 --> P12\n",
      "\u001b[32mINPUT_MATERIAL \u001b[0m for Process P1; M1 --> P1\n",
      "\u001b[31mOUTPUT_MATERIAL\u001b[0m for Process P9; P9 --> M1\n",
      "\u001b[31mOUTPUT_MATERIAL\u001b[0m for Process P8; P8 --> M1\n",
      "\u001b[31mOUTPUT_MATERIAL\u001b[0m for Process P7; P7 --> M1\n",
      "\u001b[31mOUTPUT_MATERIAL\u001b[0m for Process P28; P28 --> M1\n",
      "\u001b[31mOUTPUT_MATERIAL\u001b[0m for Process P24; P24 --> M1\n",
      "\u001b[31mOUTPUT_MATERIAL\u001b[0m for Process P21; P21 --> M1\n",
      "\u001b[31mOUTPUT_MATERIAL\u001b[0m for Process P20; P20 --> M1\n",
      "\u001b[31mOUTPUT_MATERIAL\u001b[0m for Process P19; P19 --> M1\n",
      "\u001b[31mOUTPUT_MATERIAL\u001b[0m for Process P18; P18 --> M1\n",
      "\u001b[31mOUTPUT_MATERIAL\u001b[0m for Process P11; P11 --> M1\n"
     ]
    }
   ],
   "source": [
    "df = parsed_subgraph_to_df(data,verbose=True)"
   ]
  },
  {
   "cell_type": "code",
   "execution_count": 40,
   "metadata": {},
   "outputs": [
    {
     "data": {
      "text/html": [
       "<div>\n",
       "<style scoped>\n",
       "    .dataframe tbody tr th:only-of-type {\n",
       "        vertical-align: middle;\n",
       "    }\n",
       "\n",
       "    .dataframe tbody tr th {\n",
       "        vertical-align: top;\n",
       "    }\n",
       "\n",
       "    .dataframe thead th {\n",
       "        text-align: right;\n",
       "    }\n",
       "</style>\n",
       "<table border=\"1\" class=\"dataframe\">\n",
       "  <thead>\n",
       "    <tr style=\"text-align: right;\">\n",
       "      <th></th>\n",
       "      <th>Relationship</th>\n",
       "      <th>From</th>\n",
       "      <th>To</th>\n",
       "    </tr>\n",
       "  </thead>\n",
       "  <tbody>\n",
       "    <tr>\n",
       "      <th>4</th>\n",
       "      <td>INPUT_MATERIAL</td>\n",
       "      <td>M1</td>\n",
       "      <td>P26</td>\n",
       "    </tr>\n",
       "    <tr>\n",
       "      <th>10</th>\n",
       "      <td>INPUT_MATERIAL</td>\n",
       "      <td>M1</td>\n",
       "      <td>P15</td>\n",
       "    </tr>\n",
       "    <tr>\n",
       "      <th>11</th>\n",
       "      <td>INPUT_MATERIAL</td>\n",
       "      <td>M1</td>\n",
       "      <td>P13</td>\n",
       "    </tr>\n",
       "    <tr>\n",
       "      <th>12</th>\n",
       "      <td>INPUT_MATERIAL</td>\n",
       "      <td>M1</td>\n",
       "      <td>P12</td>\n",
       "    </tr>\n",
       "    <tr>\n",
       "      <th>14</th>\n",
       "      <td>INPUT_MATERIAL</td>\n",
       "      <td>M1</td>\n",
       "      <td>P1</td>\n",
       "    </tr>\n",
       "    <tr>\n",
       "      <th>0</th>\n",
       "      <td>OUTPUT_MATERIAL</td>\n",
       "      <td>P9</td>\n",
       "      <td>M1</td>\n",
       "    </tr>\n",
       "    <tr>\n",
       "      <th>1</th>\n",
       "      <td>OUTPUT_MATERIAL</td>\n",
       "      <td>P8</td>\n",
       "      <td>M1</td>\n",
       "    </tr>\n",
       "    <tr>\n",
       "      <th>2</th>\n",
       "      <td>OUTPUT_MATERIAL</td>\n",
       "      <td>P7</td>\n",
       "      <td>M1</td>\n",
       "    </tr>\n",
       "    <tr>\n",
       "      <th>3</th>\n",
       "      <td>OUTPUT_MATERIAL</td>\n",
       "      <td>P28</td>\n",
       "      <td>M1</td>\n",
       "    </tr>\n",
       "    <tr>\n",
       "      <th>5</th>\n",
       "      <td>OUTPUT_MATERIAL</td>\n",
       "      <td>P24</td>\n",
       "      <td>M1</td>\n",
       "    </tr>\n",
       "    <tr>\n",
       "      <th>6</th>\n",
       "      <td>OUTPUT_MATERIAL</td>\n",
       "      <td>P21</td>\n",
       "      <td>M1</td>\n",
       "    </tr>\n",
       "    <tr>\n",
       "      <th>7</th>\n",
       "      <td>OUTPUT_MATERIAL</td>\n",
       "      <td>P20</td>\n",
       "      <td>M1</td>\n",
       "    </tr>\n",
       "    <tr>\n",
       "      <th>8</th>\n",
       "      <td>OUTPUT_MATERIAL</td>\n",
       "      <td>P19</td>\n",
       "      <td>M1</td>\n",
       "    </tr>\n",
       "    <tr>\n",
       "      <th>9</th>\n",
       "      <td>OUTPUT_MATERIAL</td>\n",
       "      <td>P18</td>\n",
       "      <td>M1</td>\n",
       "    </tr>\n",
       "    <tr>\n",
       "      <th>13</th>\n",
       "      <td>OUTPUT_MATERIAL</td>\n",
       "      <td>P11</td>\n",
       "      <td>M1</td>\n",
       "    </tr>\n",
       "  </tbody>\n",
       "</table>\n",
       "</div>"
      ],
      "text/plain": [
       "       Relationship From   To\n",
       "4    INPUT_MATERIAL   M1  P26\n",
       "10   INPUT_MATERIAL   M1  P15\n",
       "11   INPUT_MATERIAL   M1  P13\n",
       "12   INPUT_MATERIAL   M1  P12\n",
       "14   INPUT_MATERIAL   M1   P1\n",
       "0   OUTPUT_MATERIAL   P9   M1\n",
       "1   OUTPUT_MATERIAL   P8   M1\n",
       "2   OUTPUT_MATERIAL   P7   M1\n",
       "3   OUTPUT_MATERIAL  P28   M1\n",
       "5   OUTPUT_MATERIAL  P24   M1\n",
       "6   OUTPUT_MATERIAL  P21   M1\n",
       "7   OUTPUT_MATERIAL  P20   M1\n",
       "8   OUTPUT_MATERIAL  P19   M1\n",
       "9   OUTPUT_MATERIAL  P18   M1\n",
       "13  OUTPUT_MATERIAL  P11   M1"
      ]
     },
     "execution_count": 40,
     "metadata": {},
     "output_type": "execute_result"
    }
   ],
   "source": [
    "df"
   ]
  },
  {
   "cell_type": "code",
   "execution_count": null,
   "metadata": {},
   "outputs": [],
   "source": []
  }
 ],
 "metadata": {
  "kernelspec": {
   "display_name": "Python 3.9.12 ('CircularEconomy-7zFOP8Dc')",
   "language": "python",
   "name": "python3"
  },
  "language_info": {
   "codemirror_mode": {
    "name": "ipython",
    "version": 3
   },
   "file_extension": ".py",
   "mimetype": "text/x-python",
   "name": "python",
   "nbconvert_exporter": "python",
   "pygments_lexer": "ipython3",
   "version": "3.9.12"
  },
  "orig_nbformat": 4,
  "vscode": {
   "interpreter": {
    "hash": "f611bebe3a24ac23c9498ced9b25d027e899fd18554849a982bc875ba0f99da1"
   }
  }
 },
 "nbformat": 4,
 "nbformat_minor": 2
}
