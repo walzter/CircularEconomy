{
 "cells": [
  {
   "cell_type": "markdown",
   "metadata": {},
   "source": [
    "## Setting the Database"
   ]
  },
  {
   "cell_type": "code",
   "execution_count": 1,
   "metadata": {},
   "outputs": [],
   "source": [
    "## autoreload \n",
    "%load_ext autoreload\n",
    "%autoreload 2\n",
    "\n",
    "## defining the paths: \n",
    "PATH = \"./data/clean_data.csv\"\n",
    "SAVE_DIR = \"./data/final_df_for_db.csv\""
   ]
  },
  {
   "cell_type": "markdown",
   "metadata": {},
   "source": [
    "### Loading DataFrame"
   ]
  },
  {
   "cell_type": "code",
<<<<<<< HEAD
   "execution_count": 2,
=======
   "execution_count": 34,
>>>>>>> f909f8c439f8bb002b78b90ea9d8fe5386764efa
   "metadata": {},
   "outputs": [],
   "source": [
    "## loading helpers \n",
    "from utils.helpers import prepare_dataframe\n",
    "\n",
    "to_use = prepare_dataframe(path = PATH, save_dir = SAVE_DIR)"
   ]
  },
  {
   "cell_type": "markdown",
   "metadata": {},
   "source": [
    "### Start the Database"
   ]
  },
  {
   "cell_type": "markdown",
   "metadata": {},
   "source": [
    "Essentially doing this \n",
    "\n",
    "1) Database \n",
    "2) Connection to DB with action \n",
    "3) Ask queries to the system"
   ]
  },
  {
   "cell_type": "code",
<<<<<<< HEAD
   "execution_count": 7,
=======
   "execution_count": 35,
>>>>>>> f909f8c439f8bb002b78b90ea9d8fe5386764efa
   "metadata": {},
   "outputs": [],
   "source": [
    "# ## importing the connectors \n",
    "# from db.connector import DBConnector\n",
    "# ## load the environment variables\n",
    "from db.db_helpers import clear_db\n",
    "\n",
    "## import the materials \n",
    "from db.Materials import (Material,populate_materials_from_df,\n",
    "                          add_material,update_material_name,\n",
    "                          add_material_relationship)\n",
    "\n",
    "## import the processes \n",
    "from db.Processes import (Process,populate_process_from_df)"
   ]
  },
  {
   "cell_type": "code",
   "execution_count": 3,
   "metadata": {},
   "outputs": [],
   "source": [
    "from db.graphdb import DBConnector"
   ]
  },
  {
   "cell_type": "code",
   "execution_count": 6,
   "metadata": {},
   "outputs": [
    {
     "name": "stdout",
     "output_type": "stream",
     "text": [
      "Loaded environment variables\n",
      "Connected to the database\n"
     ]
    },
    {
     "name": "stderr",
     "output_type": "stream",
     "text": [
      "/Users/Eric/Documents/Uni/Msc/Courses/Sem2/shared_folders/CircularEconomy/src/db/graphdb.py:52: ExperimentalWarning: The configuration may change in the future.\n",
      "  return self._driver.driver.verify_connectivity()\n"
     ]
    },
    {
     "data": {
      "text/plain": [
       "{IPv4Address(('bad3976d.databases.neo4j.io', 7687)): [{'servers': [{'addresses': ['bad3976d.databases.neo4j.io:7687'],\n",
       "     'role': 'WRITE'},\n",
       "    {'addresses': ['bad3976d.databases.neo4j.io:7687'], 'role': 'READ'},\n",
       "    {'addresses': ['bad3976d.databases.neo4j.io:7687'], 'role': 'ROUTE'}],\n",
       "   'ttl': 10}]}"
      ]
     },
     "execution_count": 6,
     "metadata": {},
     "output_type": "execute_result"
    }
   ],
   "source": [
    "connector = DBConnector()\n",
    "connector._connect()\n",
    "connector._get_status()"
   ]
  },
  {
   "cell_type": "code",
   "execution_count": null,
   "metadata": {},
   "outputs": [],
   "source": [
    "# ## loading environment variables to connect to the database \n",
    "# env_vars = load_env_vars()\n",
    "# ## instantiate the connector \n",
    "# connector = DBConnector(**env_vars)\n",
    "# ## start the connection \n",
    "# connector._connect()\n",
    "# ## close the connection \n",
    "# #connector._close()\n",
    "# ## getting all the Material nodes\n",
    "# #Material.nodes.all()\n",
    "# clear_db()"
   ]
  },
  {
   "cell_type": "markdown",
   "metadata": {},
   "source": [
    "### Testing the db "
   ]
  },
  {
   "cell_type": "code",
   "execution_count": null,
   "metadata": {},
   "outputs": [],
   "source": [
    "hg_dict = {\"uuid\": \"M99\",\n",
    "                 \"name\": \"Hg\",\n",
    "                 \"quantity\": 100, \"unit\": \"ton\",\n",
    "                 \"cost\": 1000000000,\n",
    "                 \"description\":\"Material 99 - is pure Silver\"} ## the dictionary for the first material\n",
    "\n",
    "hg,status = add_material(hg_dict,verbose=True)\n",
    "\n",
    "\n",
    "ur_dict = {\"uuid\": \"M98\",\n",
    "                 \"name\": \"Ur\",\n",
    "                 \"quantity\": 999, \"unit\": \"ton\",\n",
    "                 \"cost\": 99999999999,\n",
    "                 \"description\":\"Material 98 - is pure Uranium, used in Max's Laboratory\"} ## the dictionary for the first material\n",
    "\n",
    "ur,status2 = add_material(ur_dict,verbose=True)\n",
    "\n",
    "print(Material.nodes.all(),end='\\n')\n",
    "#clear_db()"
   ]
  },
  {
   "cell_type": "code",
   "execution_count": null,
   "metadata": {},
   "outputs": [],
   "source": [
    "clear_db()\n",
    "## Silver\n",
    "hg,status = add_material(hg_dict,verbose=False)\n",
    "## Uranium \n",
    "ur,status2 = add_material(ur_dict,verbose=False)\n",
    "## create a relationship \n",
    "rel_status1 = add_material_relationship(hg, ur) ## hg --> ur \n",
    "rel_status2 = add_material_relationship(ur, hg) ## ur --> hg \n",
    "\n",
    "## update the material name \n",
    "old_uuid = \"M99\"\n",
    "new_name = 'K'\n",
    "upname1 = update_material_name(material_id=old_uuid, new_name=new_name)"
   ]
  },
  {
   "cell_type": "markdown",
   "metadata": {},
   "source": [
    "### Populating the db"
   ]
  },
  {
   "cell_type": "code",
   "execution_count": null,
   "metadata": {},
   "outputs": [],
   "source": [
    "clear_db()\n",
    "populate_materials_from_df(df=to_use, verbose=True)"
   ]
  },
  {
   "cell_type": "code",
   "execution_count": null,
   "metadata": {},
   "outputs": [],
   "source": [
    "## populate the processes\n",
    "populate_process_from_df(df=to_use, verbose=True)"
   ]
  },
  {
   "cell_type": "code",
   "execution_count": null,
   "metadata": {},
   "outputs": [],
   "source": [
    "Material.nodes.all()"
   ]
  },
  {
   "cell_type": "code",
   "execution_count": null,
   "metadata": {},
   "outputs": [],
   "source": [
    "Process.nodes.all()"
   ]
  },
  {
   "cell_type": "markdown",
   "metadata": {},
   "source": [
    "### Queries"
   ]
  },
  {
   "cell_type": "code",
   "execution_count": null,
   "metadata": {},
   "outputs": [],
   "source": [
    "## class for managing the queries to the database \n",
    "from db.Query import Query\n",
    "from neomodel import db\n"
   ]
  },
  {
   "cell_type": "code",
   "execution_count": null,
   "metadata": {},
   "outputs": [],
   "source": [
    "Q.query"
   ]
  },
  {
   "cell_type": "code",
   "execution_count": null,
   "metadata": {},
   "outputs": [],
   "source": [
    "## instantiate the object \n",
    "Q = Query(db)\n",
    "## make a material query \n",
    "Q.material_query(\"M1\")\n",
    "print(Q.run_query()[0][0])\n",
    "## make a process query\n",
    "Q.process_query(\"P1\")\n",
    "print(Q.run_query())\n",
    "## make a subgraph query\n",
    "Q.subgraph_query(\"M1\",\"Material\")\n",
    "print(Q.run_query())"
   ]
  },
  {
   "cell_type": "markdown",
   "metadata": {},
   "source": [
    "### Parsing the Query output"
   ]
  },
  {
   "cell_type": "code",
   "execution_count": null,
   "metadata": {},
   "outputs": [],
   "source": [
    "from utils.helpers import (parse_subgraph, parsed_subgraph_to_df)"
   ]
  },
  {
   "cell_type": "code",
   "execution_count": null,
   "metadata": {},
   "outputs": [],
   "source": [
    "subgraph_mat = Q.run_query()\n",
    "data,rels = parse_subgraph(subgraph_mat)"
   ]
  },
  {
   "cell_type": "code",
   "execution_count": null,
   "metadata": {},
   "outputs": [],
   "source": [
    "df = parsed_subgraph_to_df(data,verbose=True)"
   ]
  },
  {
   "cell_type": "code",
   "execution_count": null,
   "metadata": {},
   "outputs": [],
   "source": [
    "df"
   ]
  },
  {
   "cell_type": "code",
   "execution_count": null,
   "metadata": {},
   "outputs": [],
   "source": [
    "\n",
    "Q.query\n"
   ]
  }
 ],
 "metadata": {
  "kernelspec": {
   "display_name": "Python 3.9.12 ('CircularEconomy-7zFOP8Dc')",
   "language": "python",
   "name": "python3"
  },
  "language_info": {
   "codemirror_mode": {
    "name": "ipython",
    "version": 3
   },
   "file_extension": ".py",
   "mimetype": "text/x-python",
   "name": "python",
   "nbconvert_exporter": "python",
   "pygments_lexer": "ipython3",
   "version": "3.9.12"
  },
  "orig_nbformat": 4,
  "vscode": {
   "interpreter": {
    "hash": "f611bebe3a24ac23c9498ced9b25d027e899fd18554849a982bc875ba0f99da1"
   }
  }
 },
 "nbformat": 4,
 "nbformat_minor": 2
}
