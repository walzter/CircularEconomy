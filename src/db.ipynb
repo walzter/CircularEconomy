{
 "cells": [
  {
   "cell_type": "markdown",
   "metadata": {},
   "source": [
    "## Setting the Database"
   ]
  },
  {
   "cell_type": "code",
   "execution_count": 1,
   "metadata": {},
   "outputs": [],
   "source": [
    "## autoreload \n",
    "%load_ext autoreload\n",
    "%autoreload 2\n",
    "\n",
    "## defining the paths: \n",
    "PATH = \"./data/clean_data.csv\"\n",
    "SAVE_DIR = \"./data/final_df_for_db.csv\""
   ]
  },
  {
   "cell_type": "markdown",
   "metadata": {},
   "source": [
    "### Loading DataFrame"
   ]
  },
  {
   "cell_type": "code",
   "execution_count": 2,
   "metadata": {},
   "outputs": [],
   "source": [
    "## loading helpers \n",
    "from utils.helpers import prepare_dataframe\n",
    "\n",
    "to_use = prepare_dataframe(path = PATH, save_dir = SAVE_DIR)"
   ]
  },
  {
   "cell_type": "markdown",
   "metadata": {},
   "source": [
    "### Start the Database"
   ]
  },
  {
   "cell_type": "markdown",
   "metadata": {},
   "source": [
    "Essentially doing this \n",
    "\n",
    "1) Database \n",
    "2) Connection to DB with action \n",
    "3) Ask queries to the system"
   ]
  },
  {
   "cell_type": "code",
   "execution_count": 7,
   "metadata": {},
   "outputs": [],
   "source": [
    "# ## importing the connectors \n",
    "# from db.connector import DBConnector\n",
    "# ## load the environment variables\n",
    "from db.graphdb import DBConnector\n",
    "\n",
    "## import the materials \n",
    "from db.Materials import (Material,populate_materials_from_df,\n",
    "                          add_material,update_material_name,\n",
    "                          add_material_relationship)\n",
    "\n",
    "## import the processes \n",
    "from db.Processes import (Process,populate_process_from_df)"
   ]
  },
  {
   "cell_type": "code",
   "execution_count": 9,
   "metadata": {},
   "outputs": [
    {
     "name": "stdout",
     "output_type": "stream",
     "text": [
      "Loaded environment variables\n",
      "Connected to the database\n",
      "{IPv4Address(('bad3976d.databases.neo4j.io', 7687)): [{'servers': [{'addresses': ['bad3976d.databases.neo4j.io:7687'], 'role': 'WRITE'}, {'addresses': ['bad3976d.databases.neo4j.io:7687'], 'role': 'READ'}, {'addresses': ['bad3976d.databases.neo4j.io:7687'], 'role': 'ROUTE'}], 'ttl': 10}]}\n"
     ]
    }
   ],
   "source": [
    "connector = DBConnector() ## instantiate the object and load the environment variables\n",
    "connector._connect() ## connect to the database\n",
    "print(connector._get_status()) ## to check that we are connected to neo4j"
   ]
  },
  {
   "cell_type": "markdown",
   "metadata": {},
   "source": [
    "### Testing the db "
   ]
  },
  {
   "cell_type": "markdown",
   "metadata": {},
   "source": [
    "#### Adding Materials"
   ]
  },
  {
   "cell_type": "code",
   "execution_count": null,
   "metadata": {},
   "outputs": [],
   "source": [
    "hg_dict = {\"uuid\": \"M99\",\n",
    "                 \"name\": \"Hg\",\n",
    "                 \"quantity\": 100, \"unit\": \"ton\",\n",
    "                 \"cost\": 1000000000,\n",
    "                 \"description\":\"Material 99 - is pure Silver\"} ## the dictionary for the first material\n",
    "\n",
    "hg,status = add_material(hg_dict,verbose=True)\n",
    "\n",
    "\n",
    "ur_dict = {\"uuid\": \"M98\",\n",
    "                 \"name\": \"Ur\",\n",
    "                 \"quantity\": 999, \"unit\": \"ton\",\n",
    "                 \"cost\": 99999999999,\n",
    "                 \"description\":\"Material 98 - is pure Uranium, used in Max's Laboratory\"} ## the dictionary for the first material\n",
    "\n",
    "ur,status2 = add_material(ur_dict,verbose=True)\n",
    "\n",
    "print(Material.nodes.all(),end='\\n')\n",
    "connector._clear_database() ## clear the database"
   ]
  },
  {
   "cell_type": "markdown",
   "metadata": {},
   "source": [
    "#### Adding Materials & Relationships"
   ]
  },
  {
   "cell_type": "code",
   "execution_count": null,
   "metadata": {},
   "outputs": [],
   "source": [
    "#connector._clear_database()\n",
    "## Silver\n",
    "hg,status = add_material(hg_dict,verbose=False)\n",
    "## Uranium \n",
    "ur,status2 = add_material(ur_dict,verbose=False)\n",
    "## create a relationship \n",
    "rel_status1 = add_material_relationship(hg, ur) ## hg --> ur \n",
    "rel_status2 = add_material_relationship(ur, hg) ## ur --> hg \n",
    "\n",
    "## update the material name \n",
    "old_uuid = \"M99\"\n",
    "new_name = 'K'\n",
    "upname1 = update_material_name(material_id=old_uuid, new_name=new_name)"
   ]
  },
  {
   "cell_type": "markdown",
   "metadata": {},
   "source": [
    "### Populating the db"
   ]
  },
  {
   "cell_type": "code",
   "execution_count": null,
   "metadata": {},
   "outputs": [],
   "source": [
    "clear_db()\n",
    "populate_materials_from_df(df=to_use, verbose=True)"
   ]
  },
  {
   "cell_type": "code",
   "execution_count": null,
   "metadata": {},
   "outputs": [],
   "source": [
    "## populate the processes\n",
    "populate_process_from_df(df=to_use, verbose=True)"
   ]
  },
  {
   "cell_type": "code",
   "execution_count": null,
   "metadata": {},
   "outputs": [],
   "source": [
    "Material.nodes.all()"
   ]
  },
  {
   "cell_type": "code",
   "execution_count": null,
   "metadata": {},
   "outputs": [],
   "source": [
    "Process.nodes.all()"
   ]
  },
  {
   "cell_type": "markdown",
   "metadata": {},
   "source": [
    "### Queries: Materials, Processes & Sub-graphs"
   ]
  },
  {
   "cell_type": "code",
   "execution_count": 11,
   "metadata": {},
   "outputs": [],
   "source": [
    "## class for managing the queries to the database \n",
    "from db.Query import Query\n",
    "from neomodel import db"
   ]
  },
  {
   "cell_type": "code",
   "execution_count": 12,
   "metadata": {},
   "outputs": [],
   "source": [
    "## instantiate the object \n",
    "Q = Query(db) ## pass in the abc class for the database "
   ]
  },
  {
   "cell_type": "markdown",
   "metadata": {},
   "source": [
    "#### Querying Materials"
   ]
  },
  {
   "cell_type": "code",
   "execution_count": 13,
   "metadata": {},
   "outputs": [
    {
     "name": "stdout",
     "output_type": "stream",
     "text": [
      "[<Node id=0 labels=frozenset({'Material'}) properties={'quantity': -73, 'name': 'M1__', 'uuid': 'M1'}>]\n"
     ]
    }
   ],
   "source": [
    "## make a material query \n",
    "Q.material_query(\"M1\")\n",
    "print(Q.run_query()[0][0]) ## returns Node object with the ids, and properties/attributes of the node (Material)"
   ]
  },
  {
   "cell_type": "markdown",
   "metadata": {},
   "source": [
    "#### Querying Processes"
   ]
  },
  {
   "cell_type": "code",
   "execution_count": 14,
   "metadata": {},
   "outputs": [
    {
     "name": "stdout",
     "output_type": "stream",
     "text": [
      "([[<Node id=20 labels=frozenset({'Process'}) properties={'name': 'P1__XX', 'uuid': 'P1'}>]], ['n'])\n"
     ]
    }
   ],
   "source": [
    "## make a process query\n",
    "Q.process_query(\"P1\")\n",
    "print(Q.run_query()) ## returns Node object with the ids, and properties/attributes of the node (Process)"
   ]
  },
  {
   "cell_type": "markdown",
   "metadata": {},
   "source": [
    "#### Querying Subgraphs"
   ]
  },
  {
   "cell_type": "code",
   "execution_count": 15,
   "metadata": {},
   "outputs": [
    {
     "name": "stdout",
     "output_type": "stream",
     "text": [
      "([[<Relationship id=287 nodes=(<Node id=49 labels=frozenset({'Process'}) properties={'name': 'P9__XX', 'uuid': 'P9'}>, <Node id=0 labels=frozenset({'Material'}) properties={'quantity': -73, 'name': 'M1__', 'uuid': 'M1'}>) type='OUTPUT_MATERIAL' properties={}>, <Node id=0 labels=frozenset({'Material'}) properties={'quantity': -73, 'name': 'M1__', 'uuid': 'M1'}>, <Node id=49 labels=frozenset({'Process'}) properties={'name': 'P9__XX', 'uuid': 'P9'}>], [<Relationship id=277 nodes=(<Node id=48 labels=frozenset({'Process'}) properties={'name': 'P8__XX', 'uuid': 'P8'}>, <Node id=0 labels=frozenset({'Material'}) properties={'quantity': -73, 'name': 'M1__', 'uuid': 'M1'}>) type='OUTPUT_MATERIAL' properties={}>, <Node id=0 labels=frozenset({'Material'}) properties={'quantity': -73, 'name': 'M1__', 'uuid': 'M1'}>, <Node id=48 labels=frozenset({'Process'}) properties={'name': 'P8__XX', 'uuid': 'P8'}>], [<Relationship id=269 nodes=(<Node id=47 labels=frozenset({'Process'}) properties={'name': 'P7__XX', 'uuid': 'P7'}>, <Node id=0 labels=frozenset({'Material'}) properties={'quantity': -73, 'name': 'M1__', 'uuid': 'M1'}>) type='OUTPUT_MATERIAL' properties={}>, <Node id=0 labels=frozenset({'Material'}) properties={'quantity': -73, 'name': 'M1__', 'uuid': 'M1'}>, <Node id=47 labels=frozenset({'Process'}) properties={'name': 'P7__XX', 'uuid': 'P7'}>], [<Relationship id=204 nodes=(<Node id=40 labels=frozenset({'Process'}) properties={'name': 'P28__XX', 'uuid': 'P28'}>, <Node id=0 labels=frozenset({'Material'}) properties={'quantity': -73, 'name': 'M1__', 'uuid': 'M1'}>) type='OUTPUT_MATERIAL' properties={}>, <Node id=0 labels=frozenset({'Material'}) properties={'quantity': -73, 'name': 'M1__', 'uuid': 'M1'}>, <Node id=40 labels=frozenset({'Process'}) properties={'name': 'P28__XX', 'uuid': 'P28'}>], [<Relationship id=181 nodes=(<Node id=0 labels=frozenset({'Material'}) properties={'quantity': -73, 'name': 'M1__', 'uuid': 'M1'}>, <Node id=38 labels=frozenset({'Process'}) properties={'name': 'P26__XX', 'uuid': 'P26'}>) type='INPUT_MATERIAL' properties={}>, <Node id=0 labels=frozenset({'Material'}) properties={'quantity': -73, 'name': 'M1__', 'uuid': 'M1'}>, <Node id=38 labels=frozenset({'Process'}) properties={'name': 'P26__XX', 'uuid': 'P26'}>], [<Relationship id=160 nodes=(<Node id=36 labels=frozenset({'Process'}) properties={'name': 'P24__XX', 'uuid': 'P24'}>, <Node id=0 labels=frozenset({'Material'}) properties={'quantity': -73, 'name': 'M1__', 'uuid': 'M1'}>) type='OUTPUT_MATERIAL' properties={}>, <Node id=0 labels=frozenset({'Material'}) properties={'quantity': -73, 'name': 'M1__', 'uuid': 'M1'}>, <Node id=36 labels=frozenset({'Process'}) properties={'name': 'P24__XX', 'uuid': 'P24'}>], [<Relationship id=130 nodes=(<Node id=33 labels=frozenset({'Process'}) properties={'name': 'P21__XX', 'uuid': 'P21'}>, <Node id=0 labels=frozenset({'Material'}) properties={'quantity': -73, 'name': 'M1__', 'uuid': 'M1'}>) type='OUTPUT_MATERIAL' properties={}>, <Node id=0 labels=frozenset({'Material'}) properties={'quantity': -73, 'name': 'M1__', 'uuid': 'M1'}>, <Node id=33 labels=frozenset({'Process'}) properties={'name': 'P21__XX', 'uuid': 'P21'}>], [<Relationship id=119 nodes=(<Node id=32 labels=frozenset({'Process'}) properties={'name': 'P20__XX', 'uuid': 'P20'}>, <Node id=0 labels=frozenset({'Material'}) properties={'quantity': -73, 'name': 'M1__', 'uuid': 'M1'}>) type='OUTPUT_MATERIAL' properties={}>, <Node id=0 labels=frozenset({'Material'}) properties={'quantity': -73, 'name': 'M1__', 'uuid': 'M1'}>, <Node id=32 labels=frozenset({'Process'}) properties={'name': 'P20__XX', 'uuid': 'P20'}>], [<Relationship id=98 nodes=(<Node id=30 labels=frozenset({'Process'}) properties={'name': 'P19__XX', 'uuid': 'P19'}>, <Node id=0 labels=frozenset({'Material'}) properties={'quantity': -73, 'name': 'M1__', 'uuid': 'M1'}>) type='OUTPUT_MATERIAL' properties={}>, <Node id=0 labels=frozenset({'Material'}) properties={'quantity': -73, 'name': 'M1__', 'uuid': 'M1'}>, <Node id=30 labels=frozenset({'Process'}) properties={'name': 'P19__XX', 'uuid': 'P19'}>], [<Relationship id=87 nodes=(<Node id=29 labels=frozenset({'Process'}) properties={'name': 'P18__XX', 'uuid': 'P18'}>, <Node id=0 labels=frozenset({'Material'}) properties={'quantity': -73, 'name': 'M1__', 'uuid': 'M1'}>) type='OUTPUT_MATERIAL' properties={}>, <Node id=0 labels=frozenset({'Material'}) properties={'quantity': -73, 'name': 'M1__', 'uuid': 'M1'}>, <Node id=29 labels=frozenset({'Process'}) properties={'name': 'P18__XX', 'uuid': 'P18'}>], [<Relationship id=56 nodes=(<Node id=0 labels=frozenset({'Material'}) properties={'quantity': -73, 'name': 'M1__', 'uuid': 'M1'}>, <Node id=26 labels=frozenset({'Process'}) properties={'name': 'P15__XX', 'uuid': 'P15'}>) type='INPUT_MATERIAL' properties={}>, <Node id=0 labels=frozenset({'Material'}) properties={'quantity': -73, 'name': 'M1__', 'uuid': 'M1'}>, <Node id=26 labels=frozenset({'Process'}) properties={'name': 'P15__XX', 'uuid': 'P15'}>], [<Relationship id=38 nodes=(<Node id=0 labels=frozenset({'Material'}) properties={'quantity': -73, 'name': 'M1__', 'uuid': 'M1'}>, <Node id=24 labels=frozenset({'Process'}) properties={'name': 'P13__XX', 'uuid': 'P13'}>) type='INPUT_MATERIAL' properties={}>, <Node id=0 labels=frozenset({'Material'}) properties={'quantity': -73, 'name': 'M1__', 'uuid': 'M1'}>, <Node id=24 labels=frozenset({'Process'}) properties={'name': 'P13__XX', 'uuid': 'P13'}>], [<Relationship id=28 nodes=(<Node id=0 labels=frozenset({'Material'}) properties={'quantity': -73, 'name': 'M1__', 'uuid': 'M1'}>, <Node id=23 labels=frozenset({'Process'}) properties={'name': 'P12__XX', 'uuid': 'P12'}>) type='INPUT_MATERIAL' properties={}>, <Node id=0 labels=frozenset({'Material'}) properties={'quantity': -73, 'name': 'M1__', 'uuid': 'M1'}>, <Node id=23 labels=frozenset({'Process'}) properties={'name': 'P12__XX', 'uuid': 'P12'}>], [<Relationship id=16 nodes=(<Node id=22 labels=frozenset({'Process'}) properties={'name': 'P11__XX', 'uuid': 'P11'}>, <Node id=0 labels=frozenset({'Material'}) properties={'quantity': -73, 'name': 'M1__', 'uuid': 'M1'}>) type='OUTPUT_MATERIAL' properties={}>, <Node id=0 labels=frozenset({'Material'}) properties={'quantity': -73, 'name': 'M1__', 'uuid': 'M1'}>, <Node id=22 labels=frozenset({'Process'}) properties={'name': 'P11__XX', 'uuid': 'P11'}>], [<Relationship id=0 nodes=(<Node id=0 labels=frozenset({'Material'}) properties={'quantity': -73, 'name': 'M1__', 'uuid': 'M1'}>, <Node id=20 labels=frozenset({'Process'}) properties={'name': 'P1__XX', 'uuid': 'P1'}>) type='INPUT_MATERIAL' properties={}>, <Node id=0 labels=frozenset({'Material'}) properties={'quantity': -73, 'name': 'M1__', 'uuid': 'M1'}>, <Node id=20 labels=frozenset({'Process'}) properties={'name': 'P1__XX', 'uuid': 'P1'}>]], ['r', 'n', 'm'])\n"
     ]
    }
   ],
   "source": [
    "## make a subgraph query\n",
    "## returns the connected nodes of the given node, i.e. the processes associated to a material or the materials associated to a process \n",
    "Q.subgraph_query(\"M1\",\"Material\")\n",
    "print(Q.run_query())"
   ]
  },
  {
   "cell_type": "markdown",
   "metadata": {},
   "source": [
    "### Parsing the subgraph Query into human-readable form"
   ]
  },
  {
   "cell_type": "code",
   "execution_count": 17,
   "metadata": {},
   "outputs": [],
   "source": [
    "from utils.helpers import (parse_subgraph, parsed_subgraph_to_df)"
   ]
  },
  {
   "cell_type": "code",
   "execution_count": 18,
   "metadata": {},
   "outputs": [
    {
     "name": "stdout",
     "output_type": "stream",
     "text": [
      "\u001b[32mINPUT_MATERIAL \u001b[0m for Process P26; M1 --> P26\n",
      "\u001b[32mINPUT_MATERIAL \u001b[0m for Process P15; M1 --> P15\n",
      "\u001b[32mINPUT_MATERIAL \u001b[0m for Process P13; M1 --> P13\n",
      "\u001b[32mINPUT_MATERIAL \u001b[0m for Process P12; M1 --> P12\n",
      "\u001b[32mINPUT_MATERIAL \u001b[0m for Process P1; M1 --> P1\n",
      "\u001b[31mOUTPUT_MATERIAL\u001b[0m for Process P9; P9 --> M1\n",
      "\u001b[31mOUTPUT_MATERIAL\u001b[0m for Process P8; P8 --> M1\n",
      "\u001b[31mOUTPUT_MATERIAL\u001b[0m for Process P7; P7 --> M1\n",
      "\u001b[31mOUTPUT_MATERIAL\u001b[0m for Process P28; P28 --> M1\n",
      "\u001b[31mOUTPUT_MATERIAL\u001b[0m for Process P24; P24 --> M1\n",
      "\u001b[31mOUTPUT_MATERIAL\u001b[0m for Process P21; P21 --> M1\n",
      "\u001b[31mOUTPUT_MATERIAL\u001b[0m for Process P20; P20 --> M1\n",
      "\u001b[31mOUTPUT_MATERIAL\u001b[0m for Process P19; P19 --> M1\n",
      "\u001b[31mOUTPUT_MATERIAL\u001b[0m for Process P18; P18 --> M1\n",
      "\u001b[31mOUTPUT_MATERIAL\u001b[0m for Process P11; P11 --> M1\n"
     ]
    }
   ],
   "source": [
    "subgraph_mat = Q.run_query()\n",
    "data,rels = parse_subgraph(subgraph_mat)\n",
    "df = parsed_subgraph_to_df(data,verbose=True)"
   ]
  },
  {
   "cell_type": "code",
   "execution_count": 19,
   "metadata": {},
   "outputs": [
    {
     "data": {
      "text/html": [
       "<div>\n",
       "<style scoped>\n",
       "    .dataframe tbody tr th:only-of-type {\n",
       "        vertical-align: middle;\n",
       "    }\n",
       "\n",
       "    .dataframe tbody tr th {\n",
       "        vertical-align: top;\n",
       "    }\n",
       "\n",
       "    .dataframe thead th {\n",
       "        text-align: right;\n",
       "    }\n",
       "</style>\n",
       "<table border=\"1\" class=\"dataframe\">\n",
       "  <thead>\n",
       "    <tr style=\"text-align: right;\">\n",
       "      <th></th>\n",
       "      <th>Relationship</th>\n",
       "      <th>From</th>\n",
       "      <th>To</th>\n",
       "    </tr>\n",
       "  </thead>\n",
       "  <tbody>\n",
       "    <tr>\n",
       "      <th>4</th>\n",
       "      <td>INPUT_MATERIAL</td>\n",
       "      <td>M1</td>\n",
       "      <td>P26</td>\n",
       "    </tr>\n",
       "    <tr>\n",
       "      <th>10</th>\n",
       "      <td>INPUT_MATERIAL</td>\n",
       "      <td>M1</td>\n",
       "      <td>P15</td>\n",
       "    </tr>\n",
       "  </tbody>\n",
       "</table>\n",
       "</div>"
      ],
      "text/plain": [
       "      Relationship From   To\n",
       "4   INPUT_MATERIAL   M1  P26\n",
       "10  INPUT_MATERIAL   M1  P15"
      ]
     },
     "execution_count": 19,
     "metadata": {},
     "output_type": "execute_result"
    }
   ],
   "source": [
    "## look at the dataframe \n",
    "df.head(2)"
   ]
  },
  {
   "cell_type": "code",
   "execution_count": null,
   "metadata": {},
   "outputs": [],
   "source": []
  }
 ],
 "metadata": {
  "kernelspec": {
   "display_name": "Python 3.9.12 ('CircularEconomy-7zFOP8Dc')",
   "language": "python",
   "name": "python3"
  },
  "language_info": {
   "codemirror_mode": {
    "name": "ipython",
    "version": 3
   },
   "file_extension": ".py",
   "mimetype": "text/x-python",
   "name": "python",
   "nbconvert_exporter": "python",
   "pygments_lexer": "ipython3",
   "version": "3.9.12"
  },
  "orig_nbformat": 4,
  "vscode": {
   "interpreter": {
    "hash": "f611bebe3a24ac23c9498ced9b25d027e899fd18554849a982bc875ba0f99da1"
   }
  }
 },
 "nbformat": 4,
 "nbformat_minor": 2
}
