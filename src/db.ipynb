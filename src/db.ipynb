{
 "cells": [
  {
   "cell_type": "markdown",
   "metadata": {},
   "source": [
    "## Setting the Database"
   ]
  },
  {
   "cell_type": "markdown",
   "metadata": {},
   "source": [
    "### Loading DataFrame & Change to desired input format for DB"
   ]
  },
  {
   "cell_type": "code",
   "execution_count": 10,
   "metadata": {},
   "outputs": [
    {
     "name": "stdout",
     "output_type": "stream",
     "text": [
      "20\n"
     ]
    }
   ],
   "source": [
    "## loading the data \n",
    "import pandas as pd\n",
    "## defining the path \n",
    "PATH = \"./data/clean_data.csv\"\n",
    "## loading \n",
    "df = pd.read_csv(PATH)\n",
    "## reseting indeces\n",
    "dfa = df.reset_index(drop=True)\n",
    "\n",
    "## number of materials \n",
    "mats = [x for x in df.columns if \"M-\" in x]\n",
    "n_mats = len(mats)\n",
    "print(n_mats)"
   ]
  },
  {
   "cell_type": "code",
   "execution_count": 72,
   "metadata": {},
   "outputs": [],
   "source": [
    "## current dataframe: Processes | Material 1| Material 2| Material 3| ... \n",
    "## convert to Processes | Materials | Values\n",
    "long_df = pd.wide_to_long(dfa, [\"M-\"], i=\"Processes\", j=\"Material\").reset_index().rename(columns={\"M-\": \"Consumption\"})\n",
    "## add Input or Output column\n",
    "## x > 0 -> Input, x < 0 -> Output, x = 0 -> None\n",
    "long_df['IO'] = long_df['Consumption'].apply(lambda x: 1 if x > 0 else -1 if x < 0 else 0)\n",
    "## adding the text to it in case\n",
    "long_df['IO_txt'] = long_df['IO'].apply(lambda x: \"Input\" if x == 1 else \"Output\" if x == -1 else \"None\")\n",
    "\n",
    "\n",
    "long_df['Processes'] = list(map(lambda x: f'P{int(x.split(\"-\")[1])}',long_df['Processes']))\n",
    "long_df['Material'] = list(map(lambda x: f\"M{x}\",long_df['Material']))\n"
   ]
  },
  {
   "cell_type": "code",
   "execution_count": 73,
   "metadata": {},
   "outputs": [],
   "source": [
    "## the dataframe is per process, \n",
    "long_df = long_df.sort_values(by=['Processes','Material'])\n",
    "long_df_nz = long_df.query(\"Consumption != 0\")"
   ]
  },
  {
   "cell_type": "code",
   "execution_count": 74,
   "metadata": {},
   "outputs": [
    {
     "data": {
      "text/html": [
       "<div>\n",
       "<style scoped>\n",
       "    .dataframe tbody tr th:only-of-type {\n",
       "        vertical-align: middle;\n",
       "    }\n",
       "\n",
       "    .dataframe tbody tr th {\n",
       "        vertical-align: top;\n",
       "    }\n",
       "\n",
       "    .dataframe thead th {\n",
       "        text-align: right;\n",
       "    }\n",
       "</style>\n",
       "<table border=\"1\" class=\"dataframe\">\n",
       "  <thead>\n",
       "    <tr style=\"text-align: right;\">\n",
       "      <th></th>\n",
       "      <th>Processes</th>\n",
       "      <th>Material</th>\n",
       "      <th>Consumption</th>\n",
       "      <th>IO</th>\n",
       "      <th>IO_txt</th>\n",
       "    </tr>\n",
       "  </thead>\n",
       "  <tbody>\n",
       "    <tr>\n",
       "      <th>0</th>\n",
       "      <td>P1</td>\n",
       "      <td>M1</td>\n",
       "      <td>-73</td>\n",
       "      <td>-1</td>\n",
       "      <td>Output</td>\n",
       "    </tr>\n",
       "    <tr>\n",
       "      <th>270</th>\n",
       "      <td>P1</td>\n",
       "      <td>M10</td>\n",
       "      <td>0</td>\n",
       "      <td>0</td>\n",
       "      <td>None</td>\n",
       "    </tr>\n",
       "    <tr>\n",
       "      <th>300</th>\n",
       "      <td>P1</td>\n",
       "      <td>M11</td>\n",
       "      <td>0</td>\n",
       "      <td>0</td>\n",
       "      <td>None</td>\n",
       "    </tr>\n",
       "    <tr>\n",
       "      <th>330</th>\n",
       "      <td>P1</td>\n",
       "      <td>M12</td>\n",
       "      <td>-60</td>\n",
       "      <td>-1</td>\n",
       "      <td>Output</td>\n",
       "    </tr>\n",
       "    <tr>\n",
       "      <th>360</th>\n",
       "      <td>P1</td>\n",
       "      <td>M13</td>\n",
       "      <td>0</td>\n",
       "      <td>0</td>\n",
       "      <td>None</td>\n",
       "    </tr>\n",
       "    <tr>\n",
       "      <th>...</th>\n",
       "      <td>...</td>\n",
       "      <td>...</td>\n",
       "      <td>...</td>\n",
       "      <td>...</td>\n",
       "      <td>...</td>\n",
       "    </tr>\n",
       "    <tr>\n",
       "      <th>128</th>\n",
       "      <td>P9</td>\n",
       "      <td>M5</td>\n",
       "      <td>67</td>\n",
       "      <td>1</td>\n",
       "      <td>Input</td>\n",
       "    </tr>\n",
       "    <tr>\n",
       "      <th>158</th>\n",
       "      <td>P9</td>\n",
       "      <td>M6</td>\n",
       "      <td>-5</td>\n",
       "      <td>-1</td>\n",
       "      <td>Output</td>\n",
       "    </tr>\n",
       "    <tr>\n",
       "      <th>188</th>\n",
       "      <td>P9</td>\n",
       "      <td>M7</td>\n",
       "      <td>-95</td>\n",
       "      <td>-1</td>\n",
       "      <td>Output</td>\n",
       "    </tr>\n",
       "    <tr>\n",
       "      <th>218</th>\n",
       "      <td>P9</td>\n",
       "      <td>M8</td>\n",
       "      <td>-34</td>\n",
       "      <td>-1</td>\n",
       "      <td>Output</td>\n",
       "    </tr>\n",
       "    <tr>\n",
       "      <th>248</th>\n",
       "      <td>P9</td>\n",
       "      <td>M9</td>\n",
       "      <td>0</td>\n",
       "      <td>0</td>\n",
       "      <td>None</td>\n",
       "    </tr>\n",
       "  </tbody>\n",
       "</table>\n",
       "<p>600 rows × 5 columns</p>\n",
       "</div>"
      ],
      "text/plain": [
       "    Processes Material  Consumption  IO  IO_txt\n",
       "0          P1       M1          -73  -1  Output\n",
       "270        P1      M10            0   0    None\n",
       "300        P1      M11            0   0    None\n",
       "330        P1      M12          -60  -1  Output\n",
       "360        P1      M13            0   0    None\n",
       "..        ...      ...          ...  ..     ...\n",
       "128        P9       M5           67   1   Input\n",
       "158        P9       M6           -5  -1  Output\n",
       "188        P9       M7          -95  -1  Output\n",
       "218        P9       M8          -34  -1  Output\n",
       "248        P9       M9            0   0    None\n",
       "\n",
       "[600 rows x 5 columns]"
      ]
     },
     "execution_count": 74,
     "metadata": {},
     "output_type": "execute_result"
    }
   ],
   "source": [
    "long_df"
   ]
  },
  {
   "cell_type": "code",
   "execution_count": 75,
   "metadata": {},
   "outputs": [
    {
     "data": {
      "text/html": [
       "<div>\n",
       "<style scoped>\n",
       "    .dataframe tbody tr th:only-of-type {\n",
       "        vertical-align: middle;\n",
       "    }\n",
       "\n",
       "    .dataframe tbody tr th {\n",
       "        vertical-align: top;\n",
       "    }\n",
       "\n",
       "    .dataframe thead th {\n",
       "        text-align: right;\n",
       "    }\n",
       "</style>\n",
       "<table border=\"1\" class=\"dataframe\">\n",
       "  <thead>\n",
       "    <tr style=\"text-align: right;\">\n",
       "      <th></th>\n",
       "      <th>Processes</th>\n",
       "      <th>Inputs</th>\n",
       "      <th>InputCost</th>\n",
       "      <th>Outputs</th>\n",
       "      <th>OutputCost</th>\n",
       "      <th>TotalOutputCost</th>\n",
       "      <th>TotalInputCost</th>\n",
       "    </tr>\n",
       "  </thead>\n",
       "  <tbody>\n",
       "    <tr>\n",
       "      <th>0</th>\n",
       "      <td>P1</td>\n",
       "      <td>[M3, M5]</td>\n",
       "      <td>[59, 48]</td>\n",
       "      <td>[M1, M12, M15, M18, M19]</td>\n",
       "      <td>[-73, -60, -26, -9, -15]</td>\n",
       "      <td>-183</td>\n",
       "      <td>107</td>\n",
       "    </tr>\n",
       "    <tr>\n",
       "      <th>10</th>\n",
       "      <td>P10</td>\n",
       "      <td>[M10, M15, M2, M3, M8]</td>\n",
       "      <td>[71, 64, 22, 15, 64]</td>\n",
       "      <td>[M12, M18, M20, M6]</td>\n",
       "      <td>[-87, -16, -70, -15]</td>\n",
       "      <td>-188</td>\n",
       "      <td>236</td>\n",
       "    </tr>\n",
       "    <tr>\n",
       "      <th>30</th>\n",
       "      <td>P11</td>\n",
       "      <td>[M1, M11, M16, M19, M20, M3, M8]</td>\n",
       "      <td>[63, 79, 82, 26, 42, 98, 92]</td>\n",
       "      <td>[M10, M15, M18, M4, M6]</td>\n",
       "      <td>[-31, -93, -13, -69, -43]</td>\n",
       "      <td>-249</td>\n",
       "      <td>482</td>\n",
       "    </tr>\n",
       "    <tr>\n",
       "      <th>65</th>\n",
       "      <td>P12</td>\n",
       "      <td>[M11, M17, M18, M4, M7]</td>\n",
       "      <td>[23, 51, 85, 71, 42]</td>\n",
       "      <td>[M1, M15, M16, M3, M6]</td>\n",
       "      <td>[-13, -79, -47, -9, -23]</td>\n",
       "      <td>-171</td>\n",
       "      <td>272</td>\n",
       "    </tr>\n",
       "    <tr>\n",
       "      <th>90</th>\n",
       "      <td>P13</td>\n",
       "      <td>[M10, M12, M15, M5, M6, M8, M9]</td>\n",
       "      <td>[49, 66, 52, 54, 67, 39, 83]</td>\n",
       "      <td>[M1, M16]</td>\n",
       "      <td>[-80, -59]</td>\n",
       "      <td>-139</td>\n",
       "      <td>410</td>\n",
       "    </tr>\n",
       "  </tbody>\n",
       "</table>\n",
       "</div>"
      ],
      "text/plain": [
       "   Processes                            Inputs                     InputCost  \\\n",
       "0         P1                          [M3, M5]                      [59, 48]   \n",
       "10       P10            [M10, M15, M2, M3, M8]          [71, 64, 22, 15, 64]   \n",
       "30       P11  [M1, M11, M16, M19, M20, M3, M8]  [63, 79, 82, 26, 42, 98, 92]   \n",
       "65       P12           [M11, M17, M18, M4, M7]          [23, 51, 85, 71, 42]   \n",
       "90       P13   [M10, M12, M15, M5, M6, M8, M9]  [49, 66, 52, 54, 67, 39, 83]   \n",
       "\n",
       "                     Outputs                 OutputCost  TotalOutputCost  \\\n",
       "0   [M1, M12, M15, M18, M19]   [-73, -60, -26, -9, -15]             -183   \n",
       "10       [M12, M18, M20, M6]       [-87, -16, -70, -15]             -188   \n",
       "30   [M10, M15, M18, M4, M6]  [-31, -93, -13, -69, -43]             -249   \n",
       "65    [M1, M15, M16, M3, M6]   [-13, -79, -47, -9, -23]             -171   \n",
       "90                 [M1, M16]                 [-80, -59]             -139   \n",
       "\n",
       "    TotalInputCost  \n",
       "0              107  \n",
       "10             236  \n",
       "30             482  \n",
       "65             272  \n",
       "90             410  "
      ]
     },
     "execution_count": 75,
     "metadata": {},
     "output_type": "execute_result"
    }
   ],
   "source": [
    "## Used Materials\n",
    "input_materials = long_df_nz.query(\"IO == 1\")\n",
    "used_materials_per_process = input_materials.groupby(\"Processes\")['Material'].apply(list).reset_index()\n",
    "used_materials_per_process.rename(columns={\"Material\": \"Inputs\"}, inplace=True)\n",
    "## Energy to Input \n",
    "used_consumption_materials_per_process = input_materials.groupby(\"Processes\")['Consumption'].apply(list).reset_index()\n",
    "used_consumption_materials_per_process.rename(columns={\"Consumption\": \"InputCost\"}, inplace=True)\n",
    "## merge \n",
    "used_materials_df = input_materials.merge(used_materials_per_process, on=\"Processes\", how=\"left\")\n",
    "used_materials_df = used_materials_df.merge(used_consumption_materials_per_process, on=\"Processes\", how=\"left\")\n",
    "\n",
    "\n",
    "## Produced materials\n",
    "output_materials = long_df_nz.query(\"IO == -1\")\n",
    "produced_materials_per_process = output_materials.groupby(\"Processes\")['Material'].apply(list).reset_index()\n",
    "produced_materials_per_process.rename(columns={\"Material\": \"Outputs\"}, inplace=True)\n",
    "## Consumption Needed\n",
    "produced_consumption_materials_per_process = output_materials.groupby(\"Processes\")['Consumption'].apply(list).reset_index()\n",
    "produced_consumption_materials_per_process.rename(columns={\"Consumption\": \"OutputCost\"}, inplace=True)\n",
    "## merge \n",
    "produced_materials_df = output_materials.merge(produced_materials_per_process, on=\"Processes\", how=\"left\")\n",
    "produced_materials_df = produced_materials_df.merge(produced_consumption_materials_per_process, on=\"Processes\", how=\"left\")\n",
    "produced_materials_df\n",
    "\n",
    "\n",
    "## tmp1 : used_materials drop Material\tConsumption\tIO\tIO_txt\n",
    "tmp1 = used_materials_df.drop(columns=[\"Material\", \"Consumption\", \"IO\", \"IO_txt\"])\n",
    "## tmp2: produced_materials_df\n",
    "tmp2 = produced_materials_df.drop(columns=[\"Material\", \"Consumption\", \"IO\", \"IO_txt\"])\n",
    "tmp3 = tmp1.merge(tmp2, on=\"Processes\", how=\"left\")\n",
    "\n",
    "# output_cost = lambda x: x if x>0 else 0\n",
    "# input_cost = lambda x: x if x<0 else 0\n",
    "# ## map the function to the list\n",
    "tmp3['TotalOutputCost'] = tmp3['OutputCost'].apply(lambda x: sum(x))\n",
    "tmp3['TotalInputCost'] = tmp3['InputCost'].apply(lambda x: sum(x))\n",
    "## drop the duplicates \n",
    "tmp3 = tmp3.drop_duplicates('Processes')\n",
    "tmp3.head()\n"
   ]
  },
  {
   "cell_type": "code",
   "execution_count": 16,
   "metadata": {},
   "outputs": [],
   "source": [
    "to_use = long_df_nz.drop(columns=['IO','IO_txt'])"
   ]
  },
  {
   "cell_type": "markdown",
   "metadata": {},
   "source": [
    "### Start the Database"
   ]
  },
  {
   "cell_type": "markdown",
   "metadata": {},
   "source": [
    "Essentially doing this \n",
    "\n",
    "1) Database \n",
    "2) Connection to DB with action \n",
    "3) Ask queries to the system"
   ]
  },
  {
   "cell_type": "code",
   "execution_count": 1,
   "metadata": {},
   "outputs": [],
   "source": [
    "## autoreload \n",
    "%load_ext autoreload\n",
    "%autoreload 2\n"
   ]
  },
  {
   "cell_type": "code",
   "execution_count": 2,
   "metadata": {},
   "outputs": [],
   "source": [
    "from db.Materials import Material \n",
    "from db.Processes import Process\n",
    "\n",
    "## helpers \n",
    "from db.db_helpers import (add_material, remove_material,update_material_name, clear_db,add_material_relationship)\n",
    "\n",
    "## connectors & environment variables\n",
    "from db.db_helpers import load_env_vars\n",
    "from db.connector import DBConnector"
   ]
  },
  {
   "cell_type": "code",
   "execution_count": 3,
   "metadata": {},
   "outputs": [
    {
     "name": "stdout",
     "output_type": "stream",
     "text": [
      "Loaded environment variables\n",
      "Connected to the database\n"
     ]
    },
    {
     "data": {
      "text/plain": [
       "[<Material: {'uuid': 'M99', 'name': 'K', 'quantity': 100, 'unit': 'ton', 'cost': 1000000000, 'description': 'Material 99 - is pure Silver', 'id': 6}>,\n",
       " <Material: {'uuid': 'M98', 'name': 'Ur', 'quantity': 999, 'unit': 'ton', 'cost': 99999999999, 'description': \"Material 98 - is pure Uranium, used in Max's Laboratory\", 'id': 7}>]"
      ]
     },
     "execution_count": 3,
     "metadata": {},
     "output_type": "execute_result"
    }
   ],
   "source": [
    "## loading environment variables to connect to the database \n",
    "env_vars = load_env_vars()\n",
    "## instantiate the connector \n",
    "connector = DBConnector(**env_vars)\n",
    "## start the connection \n",
    "connector._connect()\n",
    "## close the connection \n",
    "#connector._close()\n",
    "## getting all the Material nodes\n",
    "Material.nodes.all()"
   ]
  },
  {
   "cell_type": "code",
   "execution_count": 4,
   "metadata": {},
   "outputs": [
    {
     "name": "stdout",
     "output_type": "stream",
     "text": [
      "Material: M99-Hg added\n",
      "Material: M98-Ur added\n",
      "[<Material: {'uuid': 'M99', 'name': 'K', 'quantity': 100, 'unit': 'ton', 'cost': 1000000000, 'description': 'Material 99 - is pure Silver', 'id': 6}>, <Material: {'uuid': 'M98', 'name': 'Ur', 'quantity': 999, 'unit': 'ton', 'cost': 99999999999, 'description': \"Material 98 - is pure Uranium, used in Max's Laboratory\", 'id': 7}>, <Material: {'uuid': 'M99', 'name': 'Hg', 'quantity': 100, 'unit': 'ton', 'cost': 1000000000, 'description': 'Material 99 - is pure Silver', 'id': 9}>, <Material: {'uuid': 'M98', 'name': 'Ur', 'quantity': 999, 'unit': 'ton', 'cost': 99999999999, 'description': \"Material 98 - is pure Uranium, used in Max's Laboratory\", 'id': 10}>]\n",
      "Database cleared\n"
     ]
    },
    {
     "data": {
      "text/plain": [
       "([], [])"
      ]
     },
     "execution_count": 4,
     "metadata": {},
     "output_type": "execute_result"
    }
   ],
   "source": [
    "hg_dict = {\"uuid\": \"M99\",\n",
    "                 \"name\": \"Hg\",\n",
    "                 \"quantity\": 100, \"unit\": \"ton\",\n",
    "                 \"cost\": 1000000000,\n",
    "                 \"description\":\"Material 99 - is pure Silver\"} ## the dictionary for the first material\n",
    "\n",
    "hg,status = add_material(hg_dict)\n",
    "\n",
    "\n",
    "ur_dict = {\"uuid\": \"M98\",\n",
    "                 \"name\": \"Ur\",\n",
    "                 \"quantity\": 999, \"unit\": \"ton\",\n",
    "                 \"cost\": 99999999999,\n",
    "                 \"description\":\"Material 98 - is pure Uranium, used in Max's Laboratory\"} ## the dictionary for the first material\n",
    "\n",
    "ur,status2 = add_material(ur_dict)\n",
    "\n",
    "print(Material.nodes.all(),end='\\n')\n",
    "clear_db()"
   ]
  },
  {
   "cell_type": "code",
   "execution_count": 5,
   "metadata": {},
   "outputs": [
    {
     "name": "stdout",
     "output_type": "stream",
     "text": [
      "Database cleared\n",
      "Material: M99-Hg added\n",
      "Material: M98-Ur added\n",
      "Added relationship between M99 and M98\n",
      "Added relationship between M98 and M99\n",
      "Updated Material: M99 with new name: K\n"
     ]
    }
   ],
   "source": [
    "clear_db()\n",
    "## Silver\n",
    "hg,status = add_material(hg_dict)\n",
    "## Uranium \n",
    "ur,status2 = add_material(ur_dict)\n",
    "## create a relationship \n",
    "rel_status1 = add_material_relationship(hg, ur) ## hg --> ur \n",
    "rel_status2 = add_material_relationship(ur, hg) ## ur --> hg \n",
    "\n",
    "## update the material name \n",
    "old_uuid = \"M99\"\n",
    "new_name = 'K'\n",
    "upname1 = update_material_name(material_id=old_uuid, new_name=new_name)"
   ]
  },
  {
   "cell_type": "code",
   "execution_count": 6,
   "metadata": {},
   "outputs": [],
   "source": [
    "## add processes \n",
    "process_dict = {\"uuid\": \"P1\",\n",
    "                \"name\": \"Process 1\",\n",
    "                \"materials_used\": \"M99\",\n",
    "                \"output_of_process\": \"M98\",\n",
    "                \"description\": \"Process 1 - is used to produce K\",\n",
    "                \"total_input_cost\": 1000000000,\n",
    "                \"total_output_cost\": -99999\n",
    "                }\n",
    "\n",
    "p1 = Process(**process_dict).save()"
   ]
  },
  {
   "cell_type": "code",
   "execution_count": 7,
   "metadata": {},
   "outputs": [
    {
     "data": {
      "text/plain": [
       "True"
      ]
     },
     "execution_count": 7,
     "metadata": {},
     "output_type": "execute_result"
    }
   ],
   "source": [
    "## connect a material as input for the process\n",
    "p1.input_material.connect(hg)"
   ]
  },
  {
   "cell_type": "code",
   "execution_count": 8,
   "metadata": {},
   "outputs": [
    {
     "data": {
      "text/plain": [
       "True"
      ]
     },
     "execution_count": 8,
     "metadata": {},
     "output_type": "execute_result"
    }
   ],
   "source": [
    "## connect the process as output for a material\n",
    "p1.output_material.connect(ur)"
   ]
  },
  {
   "cell_type": "code",
   "execution_count": 9,
   "metadata": {},
   "outputs": [
    {
     "data": {
      "text/plain": [
       "True"
      ]
     },
     "execution_count": 9,
     "metadata": {},
     "output_type": "execute_result"
    }
   ],
   "source": [
    "## add connection of material hg to process p1\n",
    "hg.associated_processes.connect(p1)"
   ]
  },
  {
   "cell_type": "code",
   "execution_count": 29,
   "metadata": {},
   "outputs": [
    {
     "data": {
      "text/html": [
       "<div>\n",
       "<style scoped>\n",
       "    .dataframe tbody tr th:only-of-type {\n",
       "        vertical-align: middle;\n",
       "    }\n",
       "\n",
       "    .dataframe tbody tr th {\n",
       "        vertical-align: top;\n",
       "    }\n",
       "\n",
       "    .dataframe thead th {\n",
       "        text-align: right;\n",
       "    }\n",
       "</style>\n",
       "<table border=\"1\" class=\"dataframe\">\n",
       "  <thead>\n",
       "    <tr style=\"text-align: right;\">\n",
       "      <th></th>\n",
       "      <th>Processes</th>\n",
       "      <th>Material</th>\n",
       "      <th>Consumption</th>\n",
       "    </tr>\n",
       "  </thead>\n",
       "  <tbody>\n",
       "    <tr>\n",
       "      <th>0</th>\n",
       "      <td>P1</td>\n",
       "      <td>M1</td>\n",
       "      <td>-73</td>\n",
       "    </tr>\n",
       "    <tr>\n",
       "      <th>60</th>\n",
       "      <td>P1</td>\n",
       "      <td>M3</td>\n",
       "      <td>59</td>\n",
       "    </tr>\n",
       "    <tr>\n",
       "      <th>120</th>\n",
       "      <td>P1</td>\n",
       "      <td>M5</td>\n",
       "      <td>48</td>\n",
       "    </tr>\n",
       "    <tr>\n",
       "      <th>330</th>\n",
       "      <td>P1</td>\n",
       "      <td>M12</td>\n",
       "      <td>-60</td>\n",
       "    </tr>\n",
       "    <tr>\n",
       "      <th>420</th>\n",
       "      <td>P1</td>\n",
       "      <td>M15</td>\n",
       "      <td>-26</td>\n",
       "    </tr>\n",
       "    <tr>\n",
       "      <th>...</th>\n",
       "      <td>...</td>\n",
       "      <td>...</td>\n",
       "      <td>...</td>\n",
       "    </tr>\n",
       "    <tr>\n",
       "      <th>329</th>\n",
       "      <td>P30</td>\n",
       "      <td>M11</td>\n",
       "      <td>-4</td>\n",
       "    </tr>\n",
       "    <tr>\n",
       "      <th>359</th>\n",
       "      <td>P30</td>\n",
       "      <td>M12</td>\n",
       "      <td>43</td>\n",
       "    </tr>\n",
       "    <tr>\n",
       "      <th>479</th>\n",
       "      <td>P30</td>\n",
       "      <td>M16</td>\n",
       "      <td>-98</td>\n",
       "    </tr>\n",
       "    <tr>\n",
       "      <th>569</th>\n",
       "      <td>P30</td>\n",
       "      <td>M19</td>\n",
       "      <td>33</td>\n",
       "    </tr>\n",
       "    <tr>\n",
       "      <th>599</th>\n",
       "      <td>P30</td>\n",
       "      <td>M20</td>\n",
       "      <td>-28</td>\n",
       "    </tr>\n",
       "  </tbody>\n",
       "</table>\n",
       "<p>297 rows × 3 columns</p>\n",
       "</div>"
      ],
      "text/plain": [
       "    Processes Material  Consumption\n",
       "0          P1       M1          -73\n",
       "60         P1       M3           59\n",
       "120        P1       M5           48\n",
       "330        P1      M12          -60\n",
       "420        P1      M15          -26\n",
       "..        ...      ...          ...\n",
       "329       P30      M11           -4\n",
       "359       P30      M12           43\n",
       "479       P30      M16          -98\n",
       "569       P30      M19           33\n",
       "599       P30      M20          -28\n",
       "\n",
       "[297 rows x 3 columns]"
      ]
     },
     "execution_count": 29,
     "metadata": {},
     "output_type": "execute_result"
    }
   ],
   "source": [
    "## add the dataframe to the database \n",
    "\n",
    "## replace the P-001 with P1\n",
    "to_use['Processes'] = list(map(lambda x: f'P{int(x.split(\"-\")[1])}',to_use['Processes']))\n",
    "to_use['Material'] = list(map(lambda x: f\"M{x}\",to_use['Material']))\n",
    "\n"
   ]
  },
  {
   "cell_type": "code",
   "execution_count": 39,
   "metadata": {},
   "outputs": [
    {
     "name": "stdout",
     "output_type": "stream",
     "text": [
      "Database cleared\n"
     ]
    },
    {
     "data": {
      "text/plain": [
       "([], [])"
      ]
     },
     "execution_count": 39,
     "metadata": {},
     "output_type": "execute_result"
    }
   ],
   "source": [
    "clear_db()"
   ]
  },
  {
   "cell_type": "code",
   "execution_count": 50,
   "metadata": {},
   "outputs": [],
   "source": [
    "## first need to create all the materials\n",
    "def material_payload(uuid:str, name:str, quantity:int, unit:str=None, cost:int=None, description:str=None):\n",
    "    return {\"uuid\": uuid,\n",
    "            \"name\": name+\"__\",\n",
    "            \"quantity\": quantity,\n",
    "            \"unit\": unit,\n",
    "            \"cost\": cost,\n",
    "            \"description\": description}\n",
    "    \n",
    "## create the process payload \n",
    "def process_payload(uuid:str, name:str, output_materials:str, input_materials:str, description:str=None, total_input_cost:int=None, total_output_cost:int=None):\n",
    "    return {\"uuid\": uuid,\n",
    "            \"name\": name,\n",
    "            \"output_materials\": output_materials,\n",
    "            \"input_materials\": input_materials,\n",
    "            \"description\": description,\n",
    "            \"total_input_cost\": total_input_cost,\n",
    "            \"total_output_cost\": total_output_cost}"
   ]
  },
  {
   "cell_type": "code",
   "execution_count": 76,
   "metadata": {},
   "outputs": [
    {
     "name": "stdout",
     "output_type": "stream",
     "text": [
      "Database cleared\n"
     ]
    },
    {
     "data": {
      "text/plain": [
       "([], [])"
      ]
     },
     "execution_count": 76,
     "metadata": {},
     "output_type": "execute_result"
    }
   ],
   "source": [
    "clear_db()"
   ]
  },
  {
   "cell_type": "code",
   "execution_count": 79,
   "metadata": {},
   "outputs": [],
   "source": [
    "from db.db_helpers import add_process"
   ]
  },
  {
   "cell_type": "code",
   "execution_count": 69,
   "metadata": {},
   "outputs": [],
   "source": [
    "## iterate over the dataframe and create the materials and processes \n",
    "for row in to_use.iterrows():\n",
    "    ## get the row information \n",
    "    process = row[1]['Processes']\n",
    "    material = row[1]['Material']\n",
    "    consumption = row[1]['Consumption']\n",
    "    ## now create the material\n",
    "    mat_payload = material_payload(uuid=material, name=material, quantity=consumption)\n",
    "    ## add the material to the database\n",
    "    #mat = Material.get_or_create(**mat_payload)\n",
    "    mat = add_material(mat_payload, verbose=False)\n",
    "    "
   ]
  },
  {
   "cell_type": "code",
   "execution_count": 77,
   "metadata": {},
   "outputs": [
    {
     "data": {
      "text/html": [
       "<div>\n",
       "<style scoped>\n",
       "    .dataframe tbody tr th:only-of-type {\n",
       "        vertical-align: middle;\n",
       "    }\n",
       "\n",
       "    .dataframe tbody tr th {\n",
       "        vertical-align: top;\n",
       "    }\n",
       "\n",
       "    .dataframe thead th {\n",
       "        text-align: right;\n",
       "    }\n",
       "</style>\n",
       "<table border=\"1\" class=\"dataframe\">\n",
       "  <thead>\n",
       "    <tr style=\"text-align: right;\">\n",
       "      <th></th>\n",
       "      <th>Processes</th>\n",
       "      <th>Inputs</th>\n",
       "      <th>InputCost</th>\n",
       "      <th>Outputs</th>\n",
       "      <th>OutputCost</th>\n",
       "      <th>TotalOutputCost</th>\n",
       "      <th>TotalInputCost</th>\n",
       "    </tr>\n",
       "  </thead>\n",
       "  <tbody>\n",
       "    <tr>\n",
       "      <th>0</th>\n",
       "      <td>P1</td>\n",
       "      <td>[M3, M5]</td>\n",
       "      <td>[59, 48]</td>\n",
       "      <td>[M1, M12, M15, M18, M19]</td>\n",
       "      <td>[-73, -60, -26, -9, -15]</td>\n",
       "      <td>-183</td>\n",
       "      <td>107</td>\n",
       "    </tr>\n",
       "    <tr>\n",
       "      <th>10</th>\n",
       "      <td>P10</td>\n",
       "      <td>[M10, M15, M2, M3, M8]</td>\n",
       "      <td>[71, 64, 22, 15, 64]</td>\n",
       "      <td>[M12, M18, M20, M6]</td>\n",
       "      <td>[-87, -16, -70, -15]</td>\n",
       "      <td>-188</td>\n",
       "      <td>236</td>\n",
       "    </tr>\n",
       "    <tr>\n",
       "      <th>30</th>\n",
       "      <td>P11</td>\n",
       "      <td>[M1, M11, M16, M19, M20, M3, M8]</td>\n",
       "      <td>[63, 79, 82, 26, 42, 98, 92]</td>\n",
       "      <td>[M10, M15, M18, M4, M6]</td>\n",
       "      <td>[-31, -93, -13, -69, -43]</td>\n",
       "      <td>-249</td>\n",
       "      <td>482</td>\n",
       "    </tr>\n",
       "    <tr>\n",
       "      <th>65</th>\n",
       "      <td>P12</td>\n",
       "      <td>[M11, M17, M18, M4, M7]</td>\n",
       "      <td>[23, 51, 85, 71, 42]</td>\n",
       "      <td>[M1, M15, M16, M3, M6]</td>\n",
       "      <td>[-13, -79, -47, -9, -23]</td>\n",
       "      <td>-171</td>\n",
       "      <td>272</td>\n",
       "    </tr>\n",
       "    <tr>\n",
       "      <th>90</th>\n",
       "      <td>P13</td>\n",
       "      <td>[M10, M12, M15, M5, M6, M8, M9]</td>\n",
       "      <td>[49, 66, 52, 54, 67, 39, 83]</td>\n",
       "      <td>[M1, M16]</td>\n",
       "      <td>[-80, -59]</td>\n",
       "      <td>-139</td>\n",
       "      <td>410</td>\n",
       "    </tr>\n",
       "  </tbody>\n",
       "</table>\n",
       "</div>"
      ],
      "text/plain": [
       "   Processes                            Inputs                     InputCost  \\\n",
       "0         P1                          [M3, M5]                      [59, 48]   \n",
       "10       P10            [M10, M15, M2, M3, M8]          [71, 64, 22, 15, 64]   \n",
       "30       P11  [M1, M11, M16, M19, M20, M3, M8]  [63, 79, 82, 26, 42, 98, 92]   \n",
       "65       P12           [M11, M17, M18, M4, M7]          [23, 51, 85, 71, 42]   \n",
       "90       P13   [M10, M12, M15, M5, M6, M8, M9]  [49, 66, 52, 54, 67, 39, 83]   \n",
       "\n",
       "                     Outputs                 OutputCost  TotalOutputCost  \\\n",
       "0   [M1, M12, M15, M18, M19]   [-73, -60, -26, -9, -15]             -183   \n",
       "10       [M12, M18, M20, M6]       [-87, -16, -70, -15]             -188   \n",
       "30   [M10, M15, M18, M4, M6]  [-31, -93, -13, -69, -43]             -249   \n",
       "65    [M1, M15, M16, M3, M6]   [-13, -79, -47, -9, -23]             -171   \n",
       "90                 [M1, M16]                 [-80, -59]             -139   \n",
       "\n",
       "    TotalInputCost  \n",
       "0              107  \n",
       "10             236  \n",
       "30             482  \n",
       "65             272  \n",
       "90             410  "
      ]
     },
     "execution_count": 77,
     "metadata": {},
     "output_type": "execute_result"
    }
   ],
   "source": [
    "tmp3.head()"
   ]
  },
  {
   "cell_type": "code",
   "execution_count": null,
   "metadata": {},
   "outputs": [],
   "source": [
    "## first need to create all the materials\n",
    "def material_payload(uuid:str, name:str, quantity:int, unit:str=None, cost:int=None, description:str=None):\n",
    "    return {\"uuid\": uuid,\n",
    "            \"name\": name+\"__\",\n",
    "            \"quantity\": quantity,\n",
    "            \"unit\": unit,\n",
    "            \"cost\": cost,\n",
    "            \"description\": description}\n",
    "    \n",
    "## create the process payload \n",
    "def process_payload(uuid:str, name:str, output_materials:str, input_materials:str, description:str=None, total_input_cost:int=None, total_output_cost:int=None):\n",
    "    return {\"uuid\": uuid,\n",
    "            \"name\": name,\n",
    "            \"output_materials\": output_materials,\n",
    "            \"input_materials\": input_materials,\n",
    "            \"description\": description,\n",
    "            \"total_input_cost\": total_input_cost,\n",
    "            \"total_output_cost\": total_output_cost}"
   ]
  },
  {
   "cell_type": "code",
   "execution_count": 78,
   "metadata": {},
   "outputs": [
    {
     "data": {
      "text/html": [
       "<div>\n",
       "<style scoped>\n",
       "    .dataframe tbody tr th:only-of-type {\n",
       "        vertical-align: middle;\n",
       "    }\n",
       "\n",
       "    .dataframe tbody tr th {\n",
       "        vertical-align: top;\n",
       "    }\n",
       "\n",
       "    .dataframe thead th {\n",
       "        text-align: right;\n",
       "    }\n",
       "</style>\n",
       "<table border=\"1\" class=\"dataframe\">\n",
       "  <thead>\n",
       "    <tr style=\"text-align: right;\">\n",
       "      <th></th>\n",
       "      <th>Processes</th>\n",
       "      <th>Inputs</th>\n",
       "      <th>InputCost</th>\n",
       "      <th>Outputs</th>\n",
       "      <th>OutputCost</th>\n",
       "      <th>TotalOutputCost</th>\n",
       "      <th>TotalInputCost</th>\n",
       "    </tr>\n",
       "  </thead>\n",
       "  <tbody>\n",
       "    <tr>\n",
       "      <th>0</th>\n",
       "      <td>P1</td>\n",
       "      <td>[M3, M5]</td>\n",
       "      <td>[59, 48]</td>\n",
       "      <td>[M1, M12, M15, M18, M19]</td>\n",
       "      <td>[-73, -60, -26, -9, -15]</td>\n",
       "      <td>-183</td>\n",
       "      <td>107</td>\n",
       "    </tr>\n",
       "    <tr>\n",
       "      <th>10</th>\n",
       "      <td>P10</td>\n",
       "      <td>[M10, M15, M2, M3, M8]</td>\n",
       "      <td>[71, 64, 22, 15, 64]</td>\n",
       "      <td>[M12, M18, M20, M6]</td>\n",
       "      <td>[-87, -16, -70, -15]</td>\n",
       "      <td>-188</td>\n",
       "      <td>236</td>\n",
       "    </tr>\n",
       "    <tr>\n",
       "      <th>30</th>\n",
       "      <td>P11</td>\n",
       "      <td>[M1, M11, M16, M19, M20, M3, M8]</td>\n",
       "      <td>[63, 79, 82, 26, 42, 98, 92]</td>\n",
       "      <td>[M10, M15, M18, M4, M6]</td>\n",
       "      <td>[-31, -93, -13, -69, -43]</td>\n",
       "      <td>-249</td>\n",
       "      <td>482</td>\n",
       "    </tr>\n",
       "    <tr>\n",
       "      <th>65</th>\n",
       "      <td>P12</td>\n",
       "      <td>[M11, M17, M18, M4, M7]</td>\n",
       "      <td>[23, 51, 85, 71, 42]</td>\n",
       "      <td>[M1, M15, M16, M3, M6]</td>\n",
       "      <td>[-13, -79, -47, -9, -23]</td>\n",
       "      <td>-171</td>\n",
       "      <td>272</td>\n",
       "    </tr>\n",
       "    <tr>\n",
       "      <th>90</th>\n",
       "      <td>P13</td>\n",
       "      <td>[M10, M12, M15, M5, M6, M8, M9]</td>\n",
       "      <td>[49, 66, 52, 54, 67, 39, 83]</td>\n",
       "      <td>[M1, M16]</td>\n",
       "      <td>[-80, -59]</td>\n",
       "      <td>-139</td>\n",
       "      <td>410</td>\n",
       "    </tr>\n",
       "  </tbody>\n",
       "</table>\n",
       "</div>"
      ],
      "text/plain": [
       "   Processes                            Inputs                     InputCost  \\\n",
       "0         P1                          [M3, M5]                      [59, 48]   \n",
       "10       P10            [M10, M15, M2, M3, M8]          [71, 64, 22, 15, 64]   \n",
       "30       P11  [M1, M11, M16, M19, M20, M3, M8]  [63, 79, 82, 26, 42, 98, 92]   \n",
       "65       P12           [M11, M17, M18, M4, M7]          [23, 51, 85, 71, 42]   \n",
       "90       P13   [M10, M12, M15, M5, M6, M8, M9]  [49, 66, 52, 54, 67, 39, 83]   \n",
       "\n",
       "                     Outputs                 OutputCost  TotalOutputCost  \\\n",
       "0   [M1, M12, M15, M18, M19]   [-73, -60, -26, -9, -15]             -183   \n",
       "10       [M12, M18, M20, M6]       [-87, -16, -70, -15]             -188   \n",
       "30   [M10, M15, M18, M4, M6]  [-31, -93, -13, -69, -43]             -249   \n",
       "65    [M1, M15, M16, M3, M6]   [-13, -79, -47, -9, -23]             -171   \n",
       "90                 [M1, M16]                 [-80, -59]             -139   \n",
       "\n",
       "    TotalInputCost  \n",
       "0              107  \n",
       "10             236  \n",
       "30             482  \n",
       "65             272  \n",
       "90             410  "
      ]
     },
     "execution_count": 78,
     "metadata": {},
     "output_type": "execute_result"
    }
   ],
   "source": [
    "tmp3.head()"
   ]
  },
  {
   "cell_type": "code",
   "execution_count": 48,
   "metadata": {},
   "outputs": [
    {
     "data": {
      "text/plain": [
       "Processes       P1\n",
       "Material        M1\n",
       "Consumption    -73\n",
       "Name: 0, dtype: object"
      ]
     },
     "execution_count": 48,
     "metadata": {},
     "output_type": "execute_result"
    }
   ],
   "source": [
    "for row in tmp3.iterrows():\n",
    "    ## get the data of the row \n",
    "    row=row[1]\n",
    "    processes = row['Processes']\n",
    "    inputs = row['Inputs'] ## list \n",
    "    inputcosts = row['InputCost'] #list \n",
    "    outputs = row['Outputs'] #list \n",
    "    outputcosts = row['OutputCost'] #list \n",
    "    totalinputcost = row['TotalInputCost'] #int\n",
    "    totaloutputcost = row['TotalOutputCost'] #int\n",
    "    ## create the process payload \n",
    "    process_payload = process_payload(uuid=processes, \n",
    "                                      name=processes, \n",
    "                                      total_input_cost=totalinputcost, \n",
    "                                      total_output_cost=totaloutputcost)\n",
    "    ## add the process to the database\n",
    "    process = add_process(process_payload, verbose=False)\n",
    "    ## \n",
    "    \n",
    "    "
   ]
  },
  {
   "cell_type": "code",
   "execution_count": null,
   "metadata": {},
   "outputs": [],
   "source": [
    "## now add the processes with the corresponidng materials "
   ]
  },
  {
   "cell_type": "code",
   "execution_count": null,
   "metadata": {},
   "outputs": [],
   "source": [
    "#driver = GraphDatabase.driver(URL, auth=(username, password))\n",
    "# neo_url = \"http://localhost:7474\"\n",
    "# driver = GraphDatabase.driver(neo_url, auth=(username, password))\n",
    "\n",
    "# with driver.session() as sess:\n",
    "    \n",
    "    \n",
    "    "
   ]
  },
  {
   "cell_type": "code",
   "execution_count": null,
   "metadata": {},
   "outputs": [],
   "source": [
    "# from neo4j import GraphDatabase\n",
    "\n",
    "# driver = GraphDatabase.driver(URL, auth=(username, password))\n",
    "\n",
    "# def create_friend_of(tx, name, friend):\n",
    "#     tx.run(\"MATCH (a:Person) WHERE a.name = $name \"\n",
    "#            \"CREATE (a)-[:KNOWS]->(:Person {name: $friend})\",\n",
    "#            name=name, friend=friend)\n",
    "\n",
    "# with driver.session() as session:\n",
    "#     session.write_transaction(create_friend_of, \"Alice\", \"Bob\")\n",
    "\n",
    "# with driver.session() as session:\n",
    "#     session.write_transaction(create_friend_of, \"Alice\", \"Carl\")\n",
    "\n",
    "# driver.close()"
   ]
  },
  {
   "cell_type": "code",
   "execution_count": null,
   "metadata": {},
   "outputs": [],
   "source": []
  }
 ],
 "metadata": {
  "kernelspec": {
   "display_name": "Python 3.9.12 ('CircularEconomy-7zFOP8Dc')",
   "language": "python",
   "name": "python3"
  },
  "language_info": {
   "codemirror_mode": {
    "name": "ipython",
    "version": 3
   },
   "file_extension": ".py",
   "mimetype": "text/x-python",
   "name": "python",
   "nbconvert_exporter": "python",
   "pygments_lexer": "ipython3",
   "version": "3.9.12"
  },
  "orig_nbformat": 4,
  "vscode": {
   "interpreter": {
    "hash": "f611bebe3a24ac23c9498ced9b25d027e899fd18554849a982bc875ba0f99da1"
   }
  }
 },
 "nbformat": 4,
 "nbformat_minor": 2
}
