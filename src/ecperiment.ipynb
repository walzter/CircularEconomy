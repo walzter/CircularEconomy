{
 "cells": [
  {
   "cell_type": "code",
   "execution_count": null,
   "metadata": {},
   "outputs": [],
   "source": []
  }
 ],
 "metadata": {
  "kernelspec": {
   "display_name": "Python 3.9.12 ('edisonjairbejaranosepulveda-jtwX8chG')",
   "language": "python",
   "name": "python3"
  },
  "language_info": {
   "name": "python",
   "version": "3.9.12"
  },
  "orig_nbformat": 4,
  "vscode": {
   "interpreter": {
    "hash": "72b65a85b14eca50b381810288abb5daadf6ea8f8c4b362eeb9dd6268d888079"
   }
  }
 },
 "nbformat": 4,
 "nbformat_minor": 2
}
