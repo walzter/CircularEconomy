{
 "cells": [
  {
   "cell_type": "code",
   "execution_count": null,
   "metadata": {},
   "outputs": [],
   "source": [
    "## install sci-kit learn\n",
    "!pip install scikit-learn"
   ]
  },
  {
   "cell_type": "code",
   "execution_count": 1,
   "metadata": {},
   "outputs": [],
   "source": [
    "## load the K-nn algorithm for nearest neighbors \n",
    "from sklearn.neighbors import NearestNeighbors"
   ]
  },
  {
   "cell_type": "code",
   "execution_count": 2,
   "metadata": {},
   "outputs": [],
   "source": [
    "## load a dataset \n",
    "from sklearn.datasets import load_iris\n",
    "X, y  = load_iris(return_X_y=True)"
   ]
  },
  {
   "cell_type": "code",
   "execution_count": 3,
   "metadata": {},
   "outputs": [
    {
     "name": "stdout",
     "output_type": "stream",
     "text": [
      "(array([[0.        , 0.1       , 0.14142136, 0.14142136, 0.14142136]]), array([[ 0, 17,  4, 39, 28]]))\n"
     ]
    }
   ],
   "source": [
    "## number of neighbors to use\n",
    "k = 5\n",
    "\n",
    "## instantiate the object \n",
    "knn = NearestNeighbors(n_neighbors=k)\n",
    "\n",
    "## fit the object to the data\n",
    "knn.fit(X)\n",
    "\n",
    "# ## find the k nearest neighbors of the first example\n",
    "print(knn.kneighbors(X[0:1]))"
   ]
  },
  {
   "cell_type": "code",
   "execution_count": 4,
   "metadata": {},
   "outputs": [
    {
     "name": "stdout",
     "output_type": "stream",
     "text": [
      "Requirement already satisfied: matplotlib in /Users/Eric/.local/share/virtualenvs/CircularEconomy-7zFOP8Dc/lib/python3.9/site-packages (3.5.2)\n",
      "Requirement already satisfied: fonttools>=4.22.0 in /Users/Eric/.local/share/virtualenvs/CircularEconomy-7zFOP8Dc/lib/python3.9/site-packages (from matplotlib) (4.33.3)\n",
      "Requirement already satisfied: kiwisolver>=1.0.1 in /Users/Eric/.local/share/virtualenvs/CircularEconomy-7zFOP8Dc/lib/python3.9/site-packages (from matplotlib) (1.4.3)\n",
      "Requirement already satisfied: python-dateutil>=2.7 in /Users/Eric/.local/share/virtualenvs/CircularEconomy-7zFOP8Dc/lib/python3.9/site-packages (from matplotlib) (2.8.2)\n",
      "Requirement already satisfied: numpy>=1.17 in /Users/Eric/.local/share/virtualenvs/CircularEconomy-7zFOP8Dc/lib/python3.9/site-packages (from matplotlib) (1.23.0)\n",
      "Requirement already satisfied: pyparsing>=2.2.1 in /Users/Eric/.local/share/virtualenvs/CircularEconomy-7zFOP8Dc/lib/python3.9/site-packages (from matplotlib) (3.0.9)\n",
      "Requirement already satisfied: packaging>=20.0 in /Users/Eric/.local/share/virtualenvs/CircularEconomy-7zFOP8Dc/lib/python3.9/site-packages (from matplotlib) (21.3)\n",
      "Requirement already satisfied: cycler>=0.10 in /Users/Eric/.local/share/virtualenvs/CircularEconomy-7zFOP8Dc/lib/python3.9/site-packages (from matplotlib) (0.11.0)\n",
      "Requirement already satisfied: pillow>=6.2.0 in /Users/Eric/.local/share/virtualenvs/CircularEconomy-7zFOP8Dc/lib/python3.9/site-packages (from matplotlib) (9.1.1)\n",
      "Requirement already satisfied: six>=1.5 in /Users/Eric/.local/share/virtualenvs/CircularEconomy-7zFOP8Dc/lib/python3.9/site-packages (from python-dateutil>=2.7->matplotlib) (1.16.0)\n"
     ]
    }
   ],
   "source": [
    "!pip install matplotlib"
   ]
  },
  {
   "cell_type": "code",
   "execution_count": 5,
   "metadata": {},
   "outputs": [],
   "source": [
    "import matplotlib.pyplot as plt"
   ]
  },
  {
   "cell_type": "code",
   "execution_count": 6,
   "metadata": {},
   "outputs": [
    {
     "data": {
      "text/plain": [
       "<matplotlib.collections.PathCollection at 0x11d56d190>"
      ]
     },
     "execution_count": 6,
     "metadata": {},
     "output_type": "execute_result"
    },
    {
     "data": {
      "image/png": "[encoded data removed]",
      "text/plain": [
       "<Figure size 432x288 with 1 Axes>"
      ]
     },
     "metadata": {
      "needs_background": "light"
     },
     "output_type": "display_data"
    }
   ],
   "source": [
    "## plot the data\n",
    "\n",
    "plt.scatter(X[:,0], X[:,1], c=y)"
   ]
  },
  {
   "cell_type": "code",
   "execution_count": 7,
   "metadata": {},
   "outputs": [],
   "source": [
    "!pip install -qq pandas\n",
    "## load the data \n",
    "import pandas as pd \n",
    "df = pd.read_csv(\"./data/data.csv\")"
   ]
  },
  {
   "cell_type": "code",
   "execution_count": null,
   "metadata": {},
   "outputs": [],
   "source": [
    "df = pd.read_csv(\"./data/data.csv\")\n",
    "## skip the first row \n",
    "## make the 2nd row the column names \n",
    "first_row = df.iloc[0]\n",
    "df.columns = first_row\n",
    "df = df.iloc[1:]\n",
    "## drop the Cost/Energy…? column\n",
    "to_drop = df.columns[-1]\n",
    "df.drop(to_drop, axis=1, inplace=True)\n",
    "## set \"Processes\" to the index \n",
    "df = df.set_index(\"Processes\")\n",
    "## convert to float \n",
    "df = df.astype(int)"
   ]
  },
  {
   "cell_type": "code",
   "execution_count": null,
   "metadata": {},
   "outputs": [],
   "source": [
    "## there are processes P-001 to P-030 and there are materials M-001 to M-020\n",
    "## for each process, create a list of tuples, such as: (P-001, M-001, value), (P-001, M-002, value), ...\n",
    "## this will be a list of edges \n",
    "l = []\n",
    "for process in df.index:\n",
    "    for material in df.columns:\n",
    "         l.append((process, material))#, df.loc[process, material]))"
   ]
  },
  {
   "cell_type": "code",
   "execution_count": null,
   "metadata": {},
   "outputs": [],
   "source": [
    "## make an edgelist dictionary \n",
    "l = []\n",
    "for process in df.index:\n",
    "    for material in df.columns:\n",
    "        #d = dict(A=process, B=material, energy=df.loc[process, material])\n",
    "        l.append((process, material))#, df.loc[process, material]))\n"
   ]
  },
  {
   "cell_type": "code",
   "execution_count": null,
   "metadata": {},
   "outputs": [],
   "source": [
    "!pip install networkx"
   ]
  },
  {
   "cell_type": "code",
   "execution_count": null,
   "metadata": {},
   "outputs": [],
   "source": [
    "import networkx as nx\n",
    "## make a bipartite graph from the list of edges \n",
    "g = nx.Graph()\n",
    "## add the edges\n",
    "#g.add_edges_from(l)\n"
   ]
  },
  {
   "cell_type": "code",
   "execution_count": null,
   "metadata": {},
   "outputs": [],
   "source": [
    "## show the graph \n",
    "nx.draw(g)"
   ]
  },
  {
   "cell_type": "code",
   "execution_count": null,
   "metadata": {},
   "outputs": [],
   "source": []
  },
  {
   "cell_type": "code",
   "execution_count": null,
   "metadata": {},
   "outputs": [],
   "source": []
  },
  {
   "cell_type": "code",
   "execution_count": null,
   "metadata": {},
   "outputs": [],
   "source": [
    "## making the bipartite graph \n",
    "from networkx.algorithms import bipartite\n",
    "\n",
    "## get the processses \n",
    "processes = list(df.index)\n",
    "## get the materials \n",
    "materials = list(df.columns)\n",
    "\n",
    "## get the edge lists \n",
    "## make an edgelist dictionary \n",
    "edge_list = []\n",
    "for process in df.index:\n",
    "    for material in df.columns:\n",
    "        #d = dict(A=process, B=material, energy=df.loc[process, material])\n",
    "        l.append((process, material))#, df.loc[process, material]))"
   ]
  },
  {
   "cell_type": "code",
   "execution_count": null,
   "metadata": {},
   "outputs": [],
   "source": [
    "B = nx.Graph()\n",
    "# Add nodes with the node attribute \"bipartite\"\n",
    "B.add_nodes_from(processes, bipartite=0) ## our nodes are the processes\n",
    "\n",
    "B.add_nodes_from(materials, bipartite=1) ## our nodes are the materials\n",
    "\n",
    "# Add edges only between nodes of opposite node sets\n",
    "B.add_edges_from(edge_list)"
   ]
  },
  {
   "cell_type": "code",
   "execution_count": null,
   "metadata": {},
   "outputs": [],
   "source": [
    "# Separate by group\n",
    "left_set, right_set = bipartite.sets(B)\n",
    "pos = {}\n",
    "\n",
    "# Update position for node from each group\n",
    "pos.update((node, (1, index)) for index, node in enumerate(left_set))\n",
    "pos.update((node, (2, index)) for index, node in enumerate(right_set))\n",
    "\n",
    "\n",
    "## for each connection, add the corresponding value from the dataframe\n",
    "for edge in B.edges():\n",
    "    B[edge[0]][edge[1]]['weight'] = df.loc[edge[0], edge[1]]\n",
    "\n",
    "nx.draw(B, pos=pos)\n",
    "plt.show()"
   ]
  },
  {
   "cell_type": "code",
   "execution_count": null,
   "metadata": {},
   "outputs": [],
   "source": [
    "B.edges(data=True)"
   ]
  },
  {
   "cell_type": "code",
   "execution_count": null,
   "metadata": {},
   "outputs": [],
   "source": []
  }
 ],
 "metadata": {
  "kernelspec": {
   "display_name": "Python 3.9.12 ('CircularEconomy-qEq71_qt')",
   "language": "python",
   "name": "python3"
  },
  "language_info": {
   "codemirror_mode": {
    "name": "ipython",
    "version": 3
   },
   "file_extension": ".py",
   "mimetype": "text/x-python",
   "name": "python",
   "nbconvert_exporter": "python",
   "pygments_lexer": "ipython3",
   "version": "3.9.12"
  },
  "orig_nbformat": 4,
  "vscode": {
   "interpreter": {
    "hash": "90e92b483360b86e08fd49730412f014b323105b1a1f87c532effbe40bcc6fba"
   }
  }
 },
 "nbformat": 4,
 "nbformat_minor": 2
}
