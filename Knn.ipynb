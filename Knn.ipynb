{
 "cells": [
  {
   "cell_type": "code",
   "execution_count": 1,
   "metadata": {},
   "outputs": [
    {
     "name": "stdout",
     "output_type": "stream",
     "text": [
      "Requirement already satisfied: scikit-learn in /Users/Eric/.local/share/virtualenvs/CircularEconomy-7zFOP8Dc/lib/python3.9/site-packages (1.1.1)\n",
      "Requirement already satisfied: scipy>=1.3.2 in /Users/Eric/.local/share/virtualenvs/CircularEconomy-7zFOP8Dc/lib/python3.9/site-packages (from scikit-learn) (1.8.1)\n",
      "Requirement already satisfied: threadpoolctl>=2.0.0 in /Users/Eric/.local/share/virtualenvs/CircularEconomy-7zFOP8Dc/lib/python3.9/site-packages (from scikit-learn) (3.1.0)\n",
      "Requirement already satisfied: joblib>=1.0.0 in /Users/Eric/.local/share/virtualenvs/CircularEconomy-7zFOP8Dc/lib/python3.9/site-packages (from scikit-learn) (1.1.0)\n",
      "Requirement already satisfied: numpy>=1.17.3 in /Users/Eric/.local/share/virtualenvs/CircularEconomy-7zFOP8Dc/lib/python3.9/site-packages (from scikit-learn) (1.23.0)\n"
     ]
    }
   ],
   "source": [
    "## install sci-kit learn\n",
    "!pip install scikit-learn"
   ]
  },
  {
   "cell_type": "code",
   "execution_count": 2,
   "metadata": {},
   "outputs": [],
   "source": [
    "## load the K-nn algorithm for nearest neighbors \n",
    "from sklearn.neighbors import NearestNeighbors"
   ]
  },
  {
   "cell_type": "code",
   "execution_count": 3,
   "metadata": {},
   "outputs": [],
   "source": [
    "## load a dataset \n",
    "from sklearn.datasets import load_iris\n",
    "data = load_iris()"
   ]
  },
  {
   "cell_type": "code",
   "execution_count": 2,
   "metadata": {},
   "outputs": [],
   "source": [
    "## number of neighbors to use\n",
    "k = 5\n",
    "\n",
    "## instantiate the object \n",
    "knn = NearestNeighbors(n_neighbors=k)\n",
    "\n"
   ]
  },
  {
   "cell_type": "code",
   "execution_count": null,
   "metadata": {},
   "outputs": [],
   "source": []
  }
 ],
 "metadata": {
  "kernelspec": {
   "display_name": "Python 3.9.12 ('CircularEconomy-7zFOP8Dc')",
   "language": "python",
   "name": "python3"
  },
  "language_info": {
   "codemirror_mode": {
    "name": "ipython",
    "version": 3
   },
   "file_extension": ".py",
   "mimetype": "text/x-python",
   "name": "python",
   "nbconvert_exporter": "python",
   "pygments_lexer": "ipython3",
   "version": "3.9.12"
  },
  "orig_nbformat": 4,
  "vscode": {
   "interpreter": {
    "hash": "f611bebe3a24ac23c9498ced9b25d027e899fd18554849a982bc875ba0f99da1"
   }
  }
 },
 "nbformat": 4,
 "nbformat_minor": 2
}
